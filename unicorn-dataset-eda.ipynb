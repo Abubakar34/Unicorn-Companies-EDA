{
 "cells": [
  {
   "cell_type": "markdown",
   "id": "9d1b5ddb",
   "metadata": {
    "papermill": {
     "duration": 0.017261,
     "end_time": "2024-04-05T03:54:55.570100",
     "exception": false,
     "start_time": "2024-04-05T03:54:55.552839",
     "status": "completed"
    },
    "tags": []
   },
   "source": [
    "# <center> **Unicorn Companies Data** </center>\n",
    "**---------------------------------------Complete Exploratory Data Analysis-----------------------------------------**"
   ]
  },
  {
   "cell_type": "markdown",
   "id": "243f5877",
   "metadata": {
    "papermill": {
     "duration": 0.01871,
     "end_time": "2024-04-05T03:54:55.605966",
     "exception": false,
     "start_time": "2024-04-05T03:54:55.587256",
     "status": "completed"
    },
    "tags": []
   },
   "source": [
    "## About Dataset\n",
    ">- **`Description`**\\\n",
    "> The Data Set was downloaded from Kaggle, from the following [link](https://www.kaggle.com/datasets/rajkumarpandey02/complete-list-of-unicorn-companies)\n",
    "\n",
    "- `Context`\n",
    "    In business, a unicorn is a privately held startup company valued at over **$1 billion**. The term was first popularised in 2013 by venture capitalist Aileen Lee, choosing the mythical animal to represent the statistical rarity of such successful ventures. In this Dataset we have The Complete List Of Unicorn Companies around the world provided by cbinsights.com. The Method for collecting the Data is Web Scraping\n",
    "\n",
    "- `Content`\n",
    "In this Dataset we have The Complete List Of Unicorn Companies around the world provided by **cbinsights.com**\n",
    "\n",
    "- `Data Columns`:\n",
    "    - Index of Serial Number\n",
    "    - Name of the Company\n",
    "    - Total valuation in ($B)\n",
    "    - Date of joining the Unicorn Club\n",
    "    - Origin Country\n",
    "    - Origin City\n",
    "    - Domain of Work\n",
    "    - Name of Investors\n"
   ]
  },
  {
   "cell_type": "markdown",
   "id": "ee8497ea",
   "metadata": {
    "papermill": {
     "duration": 0.016819,
     "end_time": "2024-04-05T03:54:55.640012",
     "exception": false,
     "start_time": "2024-04-05T03:54:55.623193",
     "status": "completed"
    },
    "tags": []
   },
   "source": [
    "## 1. Importing Libraries"
   ]
  },
  {
   "cell_type": "code",
   "execution_count": 1,
   "id": "b664a1c5",
   "metadata": {
    "_cell_guid": "b1076dfc-b9ad-4769-8c92-a6c4dae69d19",
    "_uuid": "8f2839f25d086af736a60e9eeb907d3b93b6e0e5",
    "execution": {
     "iopub.execute_input": "2024-04-05T03:54:55.677027Z",
     "iopub.status.busy": "2024-04-05T03:54:55.676158Z",
     "iopub.status.idle": "2024-04-05T03:54:58.020560Z",
     "shell.execute_reply": "2024-04-05T03:54:58.019428Z"
    },
    "papermill": {
     "duration": 2.366081,
     "end_time": "2024-04-05T03:54:58.023088",
     "exception": false,
     "start_time": "2024-04-05T03:54:55.657007",
     "status": "completed"
    },
    "tags": []
   },
   "outputs": [],
   "source": [
    "import os\n",
    "import pandas as pd\n",
    "import numpy as np\n",
    "import matplotlib.pyplot as plt\n",
    "import seaborn as sns\n",
    "%matplotlib inline "
   ]
  },
  {
   "cell_type": "markdown",
   "id": "3a9949cc",
   "metadata": {
    "papermill": {
     "duration": 0.017879,
     "end_time": "2024-04-05T03:54:58.058913",
     "exception": false,
     "start_time": "2024-04-05T03:54:58.041034",
     "status": "completed"
    },
    "tags": []
   },
   "source": [
    ">- %matplotlib inline is used for jupyter notebook to show the plot in the \n",
    "notebook itself instead of opening in a new window for the plot"
   ]
  },
  {
   "cell_type": "markdown",
   "id": "eb2ecc10",
   "metadata": {
    "papermill": {
     "duration": 0.01682,
     "end_time": "2024-04-05T03:54:58.092875",
     "exception": false,
     "start_time": "2024-04-05T03:54:58.076055",
     "status": "completed"
    },
    "tags": []
   },
   "source": [
    "## **2.0 Data Loading and exploration and cleaning**\n",
    " ↪ Load the csv file with the pandas\n",
    " \n",
    " ↪ creating the dataframe and understanding the data present in the dataset using pandas\n",
    " \n",
    " ↪ Dealing with the missing data, outliers and the incorrect records"
   ]
  },
  {
   "cell_type": "code",
   "execution_count": 2,
   "id": "90dcf0d7",
   "metadata": {
    "execution": {
     "iopub.execute_input": "2024-04-05T03:54:58.130406Z",
     "iopub.status.busy": "2024-04-05T03:54:58.129407Z",
     "iopub.status.idle": "2024-04-05T03:54:58.157081Z",
     "shell.execute_reply": "2024-04-05T03:54:58.156199Z"
    },
    "papermill": {
     "duration": 0.049195,
     "end_time": "2024-04-05T03:54:58.159520",
     "exception": false,
     "start_time": "2024-04-05T03:54:58.110325",
     "status": "completed"
    },
    "tags": []
   },
   "outputs": [],
   "source": [
    "os.listdir(\"/kaggle/input\")\n",
    "df_unicorn = pd.read_csv('/kaggle/input/complete-list-of-unicorn-companies/unicorn.csv')"
   ]
  },
  {
   "cell_type": "markdown",
   "id": "e3665462",
   "metadata": {
    "papermill": {
     "duration": 0.017941,
     "end_time": "2024-04-05T03:54:58.194585",
     "exception": false,
     "start_time": "2024-04-05T03:54:58.176644",
     "status": "completed"
    },
    "tags": []
   },
   "source": [
    "- This is to display all the columns and rows in the dataframe"
   ]
  },
  {
   "cell_type": "code",
   "execution_count": 3,
   "id": "ddb13e91",
   "metadata": {
    "execution": {
     "iopub.execute_input": "2024-04-05T03:54:58.231701Z",
     "iopub.status.busy": "2024-04-05T03:54:58.230907Z",
     "iopub.status.idle": "2024-04-05T03:54:58.236060Z",
     "shell.execute_reply": "2024-04-05T03:54:58.235041Z"
    },
    "papermill": {
     "duration": 0.026711,
     "end_time": "2024-04-05T03:54:58.238479",
     "exception": false,
     "start_time": "2024-04-05T03:54:58.211768",
     "status": "completed"
    },
    "tags": []
   },
   "outputs": [],
   "source": [
    "pd.set_option('display.max_columns', None) \n",
    "pd.set_option('display.max_rows', None) "
   ]
  },
  {
   "cell_type": "markdown",
   "id": "c004f879",
   "metadata": {
    "papermill": {
     "duration": 0.017231,
     "end_time": "2024-04-05T03:54:58.273402",
     "exception": false,
     "start_time": "2024-04-05T03:54:58.256171",
     "status": "completed"
    },
    "tags": []
   },
   "source": [
    "> **Note**: Some the output of notebook does not present the complete output, therefore we can increase the limit of columns view and row view by using pandas set_option commands: "
   ]
  },
  {
   "cell_type": "markdown",
   "id": "a6e4cab3",
   "metadata": {
    "papermill": {
     "duration": 0.074411,
     "end_time": "2024-04-05T03:54:58.365135",
     "exception": false,
     "start_time": "2024-04-05T03:54:58.290724",
     "status": "completed"
    },
    "tags": []
   },
   "source": [
    "- Hiding all warnings at runtime"
   ]
  },
  {
   "cell_type": "code",
   "execution_count": 4,
   "id": "9e7994af",
   "metadata": {
    "execution": {
     "iopub.execute_input": "2024-04-05T03:54:58.401921Z",
     "iopub.status.busy": "2024-04-05T03:54:58.401548Z",
     "iopub.status.idle": "2024-04-05T03:54:58.406392Z",
     "shell.execute_reply": "2024-04-05T03:54:58.405145Z"
    },
    "papermill": {
     "duration": 0.02613,
     "end_time": "2024-04-05T03:54:58.408674",
     "exception": false,
     "start_time": "2024-04-05T03:54:58.382544",
     "status": "completed"
    },
    "tags": []
   },
   "outputs": [],
   "source": [
    "import warnings\n",
    "warnings.filterwarnings('ignore')"
   ]
  },
  {
   "cell_type": "markdown",
   "id": "20b3e706",
   "metadata": {
    "papermill": {
     "duration": 0.017127,
     "end_time": "2024-04-05T03:54:58.443262",
     "exception": false,
     "start_time": "2024-04-05T03:54:58.426135",
     "status": "completed"
    },
    "tags": []
   },
   "source": [
    "- Showing first 5 rows of the dataset"
   ]
  },
  {
   "cell_type": "code",
   "execution_count": 5,
   "id": "61f702c2",
   "metadata": {
    "execution": {
     "iopub.execute_input": "2024-04-05T03:54:58.480016Z",
     "iopub.status.busy": "2024-04-05T03:54:58.479648Z",
     "iopub.status.idle": "2024-04-05T03:54:58.498259Z",
     "shell.execute_reply": "2024-04-05T03:54:58.497163Z"
    },
    "papermill": {
     "duration": 0.039744,
     "end_time": "2024-04-05T03:54:58.500637",
     "exception": false,
     "start_time": "2024-04-05T03:54:58.460893",
     "status": "completed"
    },
    "tags": []
   },
   "outputs": [
    {
     "data": {
      "text/html": [
       "<div>\n",
       "<style scoped>\n",
       "    .dataframe tbody tr th:only-of-type {\n",
       "        vertical-align: middle;\n",
       "    }\n",
       "\n",
       "    .dataframe tbody tr th {\n",
       "        vertical-align: top;\n",
       "    }\n",
       "\n",
       "    .dataframe thead th {\n",
       "        text-align: right;\n",
       "    }\n",
       "</style>\n",
       "<table border=\"1\" class=\"dataframe\">\n",
       "  <thead>\n",
       "    <tr style=\"text-align: right;\">\n",
       "      <th></th>\n",
       "      <th>Unnamed: 0</th>\n",
       "      <th>Company</th>\n",
       "      <th>Valuation ($B)</th>\n",
       "      <th>Date Joined</th>\n",
       "      <th>Country</th>\n",
       "      <th>City</th>\n",
       "      <th>Industry</th>\n",
       "      <th>Select Investors</th>\n",
       "    </tr>\n",
       "  </thead>\n",
       "  <tbody>\n",
       "    <tr>\n",
       "      <th>0</th>\n",
       "      <td>0</td>\n",
       "      <td>ByteDance</td>\n",
       "      <td>$140</td>\n",
       "      <td>4/7/2017</td>\n",
       "      <td>China</td>\n",
       "      <td>Beijing</td>\n",
       "      <td>Artificial intelligence</td>\n",
       "      <td>Sequoia Capital China, SIG Asia Investments, S...</td>\n",
       "    </tr>\n",
       "    <tr>\n",
       "      <th>1</th>\n",
       "      <td>1</td>\n",
       "      <td>SpaceX</td>\n",
       "      <td>$127</td>\n",
       "      <td>12/1/2012</td>\n",
       "      <td>United States</td>\n",
       "      <td>Hawthorne</td>\n",
       "      <td>Other</td>\n",
       "      <td>Founders Fund, Draper Fisher Jurvetson, Rothen...</td>\n",
       "    </tr>\n",
       "    <tr>\n",
       "      <th>2</th>\n",
       "      <td>2</td>\n",
       "      <td>SHEIN</td>\n",
       "      <td>$100</td>\n",
       "      <td>7/3/2018</td>\n",
       "      <td>China</td>\n",
       "      <td>Shenzhen</td>\n",
       "      <td>E-commerce &amp; direct-to-consumer</td>\n",
       "      <td>Tiger Global Management, Sequoia Capital China...</td>\n",
       "    </tr>\n",
       "    <tr>\n",
       "      <th>3</th>\n",
       "      <td>3</td>\n",
       "      <td>Stripe</td>\n",
       "      <td>$95</td>\n",
       "      <td>1/23/2014</td>\n",
       "      <td>United States</td>\n",
       "      <td>San Francisco</td>\n",
       "      <td>Fintech</td>\n",
       "      <td>Khosla Ventures, LowercaseCapital, capitalG</td>\n",
       "    </tr>\n",
       "    <tr>\n",
       "      <th>4</th>\n",
       "      <td>4</td>\n",
       "      <td>Canva</td>\n",
       "      <td>$40</td>\n",
       "      <td>1/8/2018</td>\n",
       "      <td>Australia</td>\n",
       "      <td>Surry Hills</td>\n",
       "      <td>Internet software &amp; services</td>\n",
       "      <td>Sequoia Capital China, Blackbird Ventures, Mat...</td>\n",
       "    </tr>\n",
       "  </tbody>\n",
       "</table>\n",
       "</div>"
      ],
      "text/plain": [
       "   Unnamed: 0    Company Valuation ($B) Date Joined        Country  \\\n",
       "0           0  ByteDance           $140    4/7/2017          China   \n",
       "1           1     SpaceX           $127   12/1/2012  United States   \n",
       "2           2      SHEIN           $100    7/3/2018          China   \n",
       "3           3     Stripe            $95   1/23/2014  United States   \n",
       "4           4      Canva            $40    1/8/2018      Australia   \n",
       "\n",
       "            City                         Industry  \\\n",
       "0        Beijing          Artificial intelligence   \n",
       "1      Hawthorne                            Other   \n",
       "2       Shenzhen  E-commerce & direct-to-consumer   \n",
       "3  San Francisco                          Fintech   \n",
       "4    Surry Hills     Internet software & services   \n",
       "\n",
       "                                    Select Investors  \n",
       "0  Sequoia Capital China, SIG Asia Investments, S...  \n",
       "1  Founders Fund, Draper Fisher Jurvetson, Rothen...  \n",
       "2  Tiger Global Management, Sequoia Capital China...  \n",
       "3        Khosla Ventures, LowercaseCapital, capitalG  \n",
       "4  Sequoia Capital China, Blackbird Ventures, Mat...  "
      ]
     },
     "execution_count": 5,
     "metadata": {},
     "output_type": "execute_result"
    }
   ],
   "source": [
    "df_unicorn.head()"
   ]
  },
  {
   "cell_type": "markdown",
   "id": "27a85bd8",
   "metadata": {
    "papermill": {
     "duration": 0.017881,
     "end_time": "2024-04-05T03:54:58.536822",
     "exception": false,
     "start_time": "2024-04-05T03:54:58.518941",
     "status": "completed"
    },
    "tags": []
   },
   "source": [
    "- Showing all columns name"
   ]
  },
  {
   "cell_type": "code",
   "execution_count": 6,
   "id": "69f8cbc5",
   "metadata": {
    "execution": {
     "iopub.execute_input": "2024-04-05T03:54:58.574547Z",
     "iopub.status.busy": "2024-04-05T03:54:58.574117Z",
     "iopub.status.idle": "2024-04-05T03:54:58.580684Z",
     "shell.execute_reply": "2024-04-05T03:54:58.579861Z"
    },
    "papermill": {
     "duration": 0.027888,
     "end_time": "2024-04-05T03:54:58.582772",
     "exception": false,
     "start_time": "2024-04-05T03:54:58.554884",
     "status": "completed"
    },
    "tags": []
   },
   "outputs": [
    {
     "data": {
      "text/plain": [
       "['Unnamed: 0',\n",
       " 'Company',\n",
       " 'Valuation ($B)',\n",
       " 'Date Joined',\n",
       " 'Country',\n",
       " 'City',\n",
       " 'Industry',\n",
       " 'Select Investors']"
      ]
     },
     "execution_count": 6,
     "metadata": {},
     "output_type": "execute_result"
    }
   ],
   "source": [
    "cols_list = list(df_unicorn.columns)\n",
    "cols_list"
   ]
  },
  {
   "cell_type": "markdown",
   "id": "b5df19a2",
   "metadata": {
    "papermill": {
     "duration": 0.017672,
     "end_time": "2024-04-05T03:54:58.619291",
     "exception": false,
     "start_time": "2024-04-05T03:54:58.601619",
     "status": "completed"
    },
    "tags": []
   },
   "source": [
    "- Looking the shape of the dataset"
   ]
  },
  {
   "cell_type": "code",
   "execution_count": 7,
   "id": "542e4a44",
   "metadata": {
    "execution": {
     "iopub.execute_input": "2024-04-05T03:54:58.656768Z",
     "iopub.status.busy": "2024-04-05T03:54:58.656359Z",
     "iopub.status.idle": "2024-04-05T03:54:58.661738Z",
     "shell.execute_reply": "2024-04-05T03:54:58.660515Z"
    },
    "papermill": {
     "duration": 0.026992,
     "end_time": "2024-04-05T03:54:58.664087",
     "exception": false,
     "start_time": "2024-04-05T03:54:58.637095",
     "status": "completed"
    },
    "tags": []
   },
   "outputs": [
    {
     "name": "stdout",
     "output_type": "stream",
     "text": [
      "# of Observations: 1201\n",
      "# of Features: 8 \n"
     ]
    }
   ],
   "source": [
    "(observations,features) = df_unicorn.shape\n",
    "print(f\"# of Observations: {observations}\\n# of Features: {features} \")"
   ]
  },
  {
   "cell_type": "markdown",
   "id": "d14cb1f8",
   "metadata": {
    "papermill": {
     "duration": 0.017475,
     "end_time": "2024-04-05T03:54:58.699499",
     "exception": false,
     "start_time": "2024-04-05T03:54:58.682024",
     "status": "completed"
    },
    "tags": []
   },
   "source": [
    "- Looking columns and their data types using detailed info function"
   ]
  },
  {
   "cell_type": "code",
   "execution_count": 8,
   "id": "a87dd269",
   "metadata": {
    "execution": {
     "iopub.execute_input": "2024-04-05T03:54:58.737169Z",
     "iopub.status.busy": "2024-04-05T03:54:58.736810Z",
     "iopub.status.idle": "2024-04-05T03:54:58.762859Z",
     "shell.execute_reply": "2024-04-05T03:54:58.761942Z"
    },
    "papermill": {
     "duration": 0.047897,
     "end_time": "2024-04-05T03:54:58.765097",
     "exception": false,
     "start_time": "2024-04-05T03:54:58.717200",
     "status": "completed"
    },
    "tags": []
   },
   "outputs": [
    {
     "name": "stdout",
     "output_type": "stream",
     "text": [
      "<class 'pandas.core.frame.DataFrame'>\n",
      "RangeIndex: 1201 entries, 0 to 1200\n",
      "Data columns (total 8 columns):\n",
      " #   Column            Non-Null Count  Dtype \n",
      "---  ------            --------------  ----- \n",
      " 0   Unnamed: 0        1201 non-null   int64 \n",
      " 1   Company           1201 non-null   object\n",
      " 2   Valuation ($B)    1201 non-null   object\n",
      " 3   Date Joined       1201 non-null   object\n",
      " 4   Country           1201 non-null   object\n",
      " 5   City              1183 non-null   object\n",
      " 6   Industry          1201 non-null   object\n",
      " 7   Select Investors  1200 non-null   object\n",
      "dtypes: int64(1), object(7)\n",
      "memory usage: 75.2+ KB\n"
     ]
    }
   ],
   "source": [
    "df_unicorn.info()"
   ]
  },
  {
   "cell_type": "code",
   "execution_count": 9,
   "id": "33e2829f",
   "metadata": {
    "execution": {
     "iopub.execute_input": "2024-04-05T03:54:58.803580Z",
     "iopub.status.busy": "2024-04-05T03:54:58.803144Z",
     "iopub.status.idle": "2024-04-05T03:54:58.811665Z",
     "shell.execute_reply": "2024-04-05T03:54:58.810857Z"
    },
    "papermill": {
     "duration": 0.03053,
     "end_time": "2024-04-05T03:54:58.813780",
     "exception": false,
     "start_time": "2024-04-05T03:54:58.783250",
     "status": "completed"
    },
    "tags": []
   },
   "outputs": [
    {
     "data": {
      "text/plain": [
       "Unnamed: 0           0\n",
       "Company              0\n",
       "Valuation ($B)       0\n",
       "Date Joined          0\n",
       "Country              0\n",
       "City                18\n",
       "Industry             0\n",
       "Select Investors     1\n",
       "dtype: int64"
      ]
     },
     "execution_count": 9,
     "metadata": {},
     "output_type": "execute_result"
    }
   ],
   "source": [
    "df_unicorn.isnull().sum()"
   ]
  },
  {
   "cell_type": "markdown",
   "id": "b5a5e5f2",
   "metadata": {
    "papermill": {
     "duration": 0.019218,
     "end_time": "2024-04-05T03:54:58.853383",
     "exception": false,
     "start_time": "2024-04-05T03:54:58.834165",
     "status": "completed"
    },
    "tags": []
   },
   "source": [
    "# **Observations**\n",
    "---\n",
    "1. There are 1201 rows and 8 columns in the dataset\n",
    "2. We have columns of two types`int64` and `object`\n",
    "3. The columns in the datasets are:\n",
    "    - ['Unnamed: 0', 'Company', 'Valuation ($B)','Date Joined', 'Country','City', 'Industry', 'Select Investors']\n",
    "4. The name of the first column is missing that is basically the id column and it showing as `Unnamed: 0`. We will deal with this column later on in the notebook\n",
    "5. There are few missing values in the dataset which we will also impute later on in the notebook\n",
    "6. The `Valuation ($B)` is of object data type but it should be of numeric data type and `Date Joined` should be in date type, we will convert them later on in the notebook.\n"
   ]
  },
  {
   "cell_type": "markdown",
   "id": "ae573654",
   "metadata": {
    "papermill": {
     "duration": 0.017892,
     "end_time": "2024-04-05T03:54:58.889540",
     "exception": false,
     "start_time": "2024-04-05T03:54:58.871648",
     "status": "completed"
    },
    "tags": []
   },
   "source": [
    "- Showing statistical summary of the dataset"
   ]
  },
  {
   "cell_type": "code",
   "execution_count": 10,
   "id": "5d849a8b",
   "metadata": {
    "execution": {
     "iopub.execute_input": "2024-04-05T03:54:58.927156Z",
     "iopub.status.busy": "2024-04-05T03:54:58.926802Z",
     "iopub.status.idle": "2024-04-05T03:54:58.944759Z",
     "shell.execute_reply": "2024-04-05T03:54:58.943710Z"
    },
    "papermill": {
     "duration": 0.039321,
     "end_time": "2024-04-05T03:54:58.947053",
     "exception": false,
     "start_time": "2024-04-05T03:54:58.907732",
     "status": "completed"
    },
    "tags": []
   },
   "outputs": [
    {
     "data": {
      "text/html": [
       "<div>\n",
       "<style scoped>\n",
       "    .dataframe tbody tr th:only-of-type {\n",
       "        vertical-align: middle;\n",
       "    }\n",
       "\n",
       "    .dataframe tbody tr th {\n",
       "        vertical-align: top;\n",
       "    }\n",
       "\n",
       "    .dataframe thead th {\n",
       "        text-align: right;\n",
       "    }\n",
       "</style>\n",
       "<table border=\"1\" class=\"dataframe\">\n",
       "  <thead>\n",
       "    <tr style=\"text-align: right;\">\n",
       "      <th></th>\n",
       "      <th>Unnamed: 0</th>\n",
       "    </tr>\n",
       "  </thead>\n",
       "  <tbody>\n",
       "    <tr>\n",
       "      <th>count</th>\n",
       "      <td>1201.000000</td>\n",
       "    </tr>\n",
       "    <tr>\n",
       "      <th>mean</th>\n",
       "      <td>600.000000</td>\n",
       "    </tr>\n",
       "    <tr>\n",
       "      <th>std</th>\n",
       "      <td>346.843144</td>\n",
       "    </tr>\n",
       "    <tr>\n",
       "      <th>min</th>\n",
       "      <td>0.000000</td>\n",
       "    </tr>\n",
       "    <tr>\n",
       "      <th>25%</th>\n",
       "      <td>300.000000</td>\n",
       "    </tr>\n",
       "    <tr>\n",
       "      <th>50%</th>\n",
       "      <td>600.000000</td>\n",
       "    </tr>\n",
       "    <tr>\n",
       "      <th>75%</th>\n",
       "      <td>900.000000</td>\n",
       "    </tr>\n",
       "    <tr>\n",
       "      <th>max</th>\n",
       "      <td>1200.000000</td>\n",
       "    </tr>\n",
       "  </tbody>\n",
       "</table>\n",
       "</div>"
      ],
      "text/plain": [
       "        Unnamed: 0\n",
       "count  1201.000000\n",
       "mean    600.000000\n",
       "std     346.843144\n",
       "min       0.000000\n",
       "25%     300.000000\n",
       "50%     600.000000\n",
       "75%     900.000000\n",
       "max    1200.000000"
      ]
     },
     "execution_count": 10,
     "metadata": {},
     "output_type": "execute_result"
    }
   ],
   "source": [
    "df_unicorn.describe()"
   ]
  },
  {
   "cell_type": "markdown",
   "id": "d837df23",
   "metadata": {
    "papermill": {
     "duration": 0.018016,
     "end_time": "2024-04-05T03:54:58.983527",
     "exception": false,
     "start_time": "2024-04-05T03:54:58.965511",
     "status": "completed"
    },
    "tags": []
   },
   "source": [
    "## Observations:\n",
    "- We have only 1 column as numeric data type i.e `Unnamed: 0` that is the id of each row, rest all are object data type, but we can see that `Valuation ($B)` is an object type column, we must convert it to numeric data type in data wrangling process."
   ]
  },
  {
   "cell_type": "markdown",
   "id": "b32139ff",
   "metadata": {
    "papermill": {
     "duration": 0.017909,
     "end_time": "2024-04-05T03:54:59.019624",
     "exception": false,
     "start_time": "2024-04-05T03:54:59.001715",
     "status": "completed"
    },
    "tags": []
   },
   "source": [
    "- Let's clean the `Valuation ($B)` column first"
   ]
  },
  {
   "cell_type": "code",
   "execution_count": 11,
   "id": "99653e02",
   "metadata": {
    "execution": {
     "iopub.execute_input": "2024-04-05T03:54:59.057613Z",
     "iopub.status.busy": "2024-04-05T03:54:59.057188Z",
     "iopub.status.idle": "2024-04-05T03:54:59.065218Z",
     "shell.execute_reply": "2024-04-05T03:54:59.064019Z"
    },
    "papermill": {
     "duration": 0.02964,
     "end_time": "2024-04-05T03:54:59.067340",
     "exception": false,
     "start_time": "2024-04-05T03:54:59.037700",
     "status": "completed"
    },
    "tags": []
   },
   "outputs": [
    {
     "data": {
      "text/plain": [
       "0"
      ]
     },
     "execution_count": 11,
     "metadata": {},
     "output_type": "execute_result"
    }
   ],
   "source": [
    "df_unicorn['Valuation ($B)'].isnull().sum()"
   ]
  },
  {
   "cell_type": "markdown",
   "id": "47e59160",
   "metadata": {
    "papermill": {
     "duration": 0.018761,
     "end_time": "2024-04-05T03:54:59.104734",
     "exception": false,
     "start_time": "2024-04-05T03:54:59.085973",
     "status": "completed"
    },
    "tags": []
   },
   "source": [
    ">- No null values in `Valuation ($B)`, we are good to go."
   ]
  },
  {
   "cell_type": "markdown",
   "id": "2b39a263",
   "metadata": {
    "papermill": {
     "duration": 0.018434,
     "end_time": "2024-04-05T03:54:59.142357",
     "exception": false,
     "start_time": "2024-04-05T03:54:59.123923",
     "status": "completed"
    },
    "tags": []
   },
   "source": [
    "- Chcking unique values"
   ]
  },
  {
   "cell_type": "code",
   "execution_count": 12,
   "id": "160b7898",
   "metadata": {
    "execution": {
     "iopub.execute_input": "2024-04-05T03:54:59.183696Z",
     "iopub.status.busy": "2024-04-05T03:54:59.183280Z",
     "iopub.status.idle": "2024-04-05T03:54:59.190327Z",
     "shell.execute_reply": "2024-04-05T03:54:59.189531Z"
    },
    "papermill": {
     "duration": 0.02987,
     "end_time": "2024-04-05T03:54:59.192526",
     "exception": false,
     "start_time": "2024-04-05T03:54:59.162656",
     "status": "completed"
    },
    "tags": []
   },
   "outputs": [
    {
     "data": {
      "text/plain": [
       "array(['$140', '$127', '$100', '$95', '$40', '$39', '$38', '$33', '$31.5',\n",
       "       '$32', '$27', '$25', '$22', '$20', '$17.5', '$15.5', '$15', '$14',\n",
       "       '$13.5', '$13.3', '$13', '$12.6', '$12.59', '$12.3', '$12',\n",
       "       '$11.8', '$11.7', '$11.4', '$11.25', '$11.1', '$11', '$10.2',\n",
       "       '$10.88', '$10.7', '$10', '$9.5', '$9.28', '$9.23', '$9.2',\n",
       "       '$9.08', '$9', '$8.75', '$8.7', '$8.6', '$8.5', '$8.4', '$8.3',\n",
       "       '$8.1', '$8', '$7.83', '$7.6', '$7.75', '$7.5', '$7.4', '$7.3',\n",
       "       '$7.25', '$7.1', '$7', '$6.8', '$6.7', '$6.6', '$6.51', '$6.5',\n",
       "       '$6.4', '$6.3', '$6.28', '$6.2', '$6.1', '$6', '$5.2', '$5.99',\n",
       "       '$5.78', '$5.77', '$5.7', '$5.6', '$5.36', '$5.25', '$5.1',\n",
       "       '$5.05', '$5', '$5.5', '$6.38', '$4.9', '$4.8', '$4.73', '$4.7',\n",
       "       '$4.6', '$5.85', '$4.58', '$4.53', '$4.5', '$4.4', '$4.3', '$4.2',\n",
       "       '$4.25', '$4.15', '$4.1', '$4.11', '$4', '$4.01', '$3.92', '$3.8',\n",
       "       '$3.75', '$3.7', '$3.66', '$3.6', '$3.52', '$3.5', '$3.50',\n",
       "       '$3.44', '$3.4', '$3.36', '$3.35', '$3.34', '$3.31', '$3.3',\n",
       "       '$3.25', '$3.24', '$3.21', '$3.2', '$3.15', '$3.1', '$3', '$2.92',\n",
       "       '$2.9', '$2.85', '$2.8', '$2.77', '$2.75', '$2.74', '$3.95',\n",
       "       '$2.7', '$2.66', '$2.6', '$2.62', '$2', '$2.55', '$2.59', '$2.5',\n",
       "       '$2.68', '$2.45', '$2.44', '$2.41', '$2.4', '$2.35', '$2.34',\n",
       "       '$2.32', '$2.31', '$2.3', '$2.27', '$2.25', '$2.2', '$2.20',\n",
       "       '$2.19', '$2.18', '$2.17', '$2.15', '$2.1', '$1.93', '$1.98',\n",
       "       '$1.95', '$1.9', '$1.94', '$1.87', '$1.85', '$1.83', '$1.8',\n",
       "       '$1.79', '$1.78', '$1.75', '$1.73', '$1.7', '$1.69', '$1.66',\n",
       "       '$1.6', '$1.65', '$1.62', '$1.61', '$1.36', '$1.5', '$1.59',\n",
       "       '$1.58', '$1.57', '$1.55', '$1.53', '$1.52', '$1.51', '$1.50',\n",
       "       '$1.49', '$1.48', '$1.46', '$1.45', '$1.44', '$1.43', '$1.42',\n",
       "       '$1.4', '$1.38', '$1.35', '$1.34', '$1.33', '$1.32', '$1.31',\n",
       "       '$1.3', '$1.28', '$1.27', '$1.26', '$1.25', '$1.24', '$1.23',\n",
       "       '$1.22', '$1.2', '$1', '$1.15', '$1.19', '$1.18', '$1.17', '$1.16',\n",
       "       '$1.12', '$1.13', '$1.1', '$1.08', '$1.07', '$1.05', '$1.04',\n",
       "       '$1.03', '$1.02', '$1.01', '$1.06'], dtype=object)"
      ]
     },
     "execution_count": 12,
     "metadata": {},
     "output_type": "execute_result"
    }
   ],
   "source": [
    "df_unicorn['Valuation ($B)'].unique()"
   ]
  },
  {
   "cell_type": "markdown",
   "id": "af388c36",
   "metadata": {
    "papermill": {
     "duration": 0.018465,
     "end_time": "2024-04-05T03:54:59.229652",
     "exception": false,
     "start_time": "2024-04-05T03:54:59.211187",
     "status": "completed"
    },
    "tags": []
   },
   "source": [
    "> We want to convert this column into float but the problem here is the `$` sign before the values. So we will remove this sign and convert `Valuation ($B)` column into float type"
   ]
  },
  {
   "cell_type": "markdown",
   "id": "3db5c53c",
   "metadata": {
    "papermill": {
     "duration": 0.018614,
     "end_time": "2024-04-05T03:54:59.267757",
     "exception": false,
     "start_time": "2024-04-05T03:54:59.249143",
     "status": "completed"
    },
    "tags": []
   },
   "source": [
    "- Checking how many values have `$` sign in the `Valuation ($B)` column"
   ]
  },
  {
   "cell_type": "code",
   "execution_count": 13,
   "id": "cd3027ed",
   "metadata": {
    "execution": {
     "iopub.execute_input": "2024-04-05T03:54:59.307541Z",
     "iopub.status.busy": "2024-04-05T03:54:59.307122Z",
     "iopub.status.idle": "2024-04-05T03:54:59.316741Z",
     "shell.execute_reply": "2024-04-05T03:54:59.316004Z"
    },
    "papermill": {
     "duration": 0.032079,
     "end_time": "2024-04-05T03:54:59.318853",
     "exception": false,
     "start_time": "2024-04-05T03:54:59.286774",
     "status": "completed"
    },
    "tags": []
   },
   "outputs": [
    {
     "data": {
      "text/plain": [
       "1201"
      ]
     },
     "execution_count": 13,
     "metadata": {},
     "output_type": "execute_result"
    }
   ],
   "source": [
    "df_unicorn['Valuation ($B)'].loc[df_unicorn['Valuation ($B)'].str.contains('$')].value_counts().sum()"
   ]
  },
  {
   "cell_type": "markdown",
   "id": "90fa54aa",
   "metadata": {
    "papermill": {
     "duration": 0.018431,
     "end_time": "2024-04-05T03:54:59.356067",
     "exception": false,
     "start_time": "2024-04-05T03:54:59.337636",
     "status": "completed"
    },
    "tags": []
   },
   "source": [
    "> There are total `1201` values in the column and all of them have `$` sign with them"
   ]
  },
  {
   "cell_type": "markdown",
   "id": "c7cb9d83",
   "metadata": {
    "papermill": {
     "duration": 0.01854,
     "end_time": "2024-04-05T03:54:59.393378",
     "exception": false,
     "start_time": "2024-04-05T03:54:59.374838",
     "status": "completed"
    },
    "tags": []
   },
   "source": [
    "- Removing `$` sign and converting `Valuation ($B)` column into float"
   ]
  },
  {
   "cell_type": "code",
   "execution_count": 14,
   "id": "277d35b7",
   "metadata": {
    "execution": {
     "iopub.execute_input": "2024-04-05T03:54:59.431991Z",
     "iopub.status.busy": "2024-04-05T03:54:59.431599Z",
     "iopub.status.idle": "2024-04-05T03:54:59.438200Z",
     "shell.execute_reply": "2024-04-05T03:54:59.437093Z"
    },
    "papermill": {
     "duration": 0.028497,
     "end_time": "2024-04-05T03:54:59.440355",
     "exception": false,
     "start_time": "2024-04-05T03:54:59.411858",
     "status": "completed"
    },
    "tags": []
   },
   "outputs": [],
   "source": [
    "df_unicorn['Valuation ($B)'] = df_unicorn['Valuation ($B)'].apply(lambda x: float(x[1:]))"
   ]
  },
  {
   "cell_type": "code",
   "execution_count": 15,
   "id": "8e812542",
   "metadata": {
    "execution": {
     "iopub.execute_input": "2024-04-05T03:54:59.478810Z",
     "iopub.status.busy": "2024-04-05T03:54:59.478408Z",
     "iopub.status.idle": "2024-04-05T03:54:59.491498Z",
     "shell.execute_reply": "2024-04-05T03:54:59.490732Z"
    },
    "papermill": {
     "duration": 0.034605,
     "end_time": "2024-04-05T03:54:59.493504",
     "exception": false,
     "start_time": "2024-04-05T03:54:59.458899",
     "status": "completed"
    },
    "tags": []
   },
   "outputs": [
    {
     "data": {
      "text/html": [
       "<div>\n",
       "<style scoped>\n",
       "    .dataframe tbody tr th:only-of-type {\n",
       "        vertical-align: middle;\n",
       "    }\n",
       "\n",
       "    .dataframe tbody tr th {\n",
       "        vertical-align: top;\n",
       "    }\n",
       "\n",
       "    .dataframe thead th {\n",
       "        text-align: right;\n",
       "    }\n",
       "</style>\n",
       "<table border=\"1\" class=\"dataframe\">\n",
       "  <thead>\n",
       "    <tr style=\"text-align: right;\">\n",
       "      <th></th>\n",
       "      <th>Unnamed: 0</th>\n",
       "      <th>Company</th>\n",
       "      <th>Valuation ($B)</th>\n",
       "      <th>Date Joined</th>\n",
       "      <th>Country</th>\n",
       "      <th>City</th>\n",
       "      <th>Industry</th>\n",
       "      <th>Select Investors</th>\n",
       "    </tr>\n",
       "  </thead>\n",
       "  <tbody>\n",
       "    <tr>\n",
       "      <th>0</th>\n",
       "      <td>0</td>\n",
       "      <td>ByteDance</td>\n",
       "      <td>140.0</td>\n",
       "      <td>4/7/2017</td>\n",
       "      <td>China</td>\n",
       "      <td>Beijing</td>\n",
       "      <td>Artificial intelligence</td>\n",
       "      <td>Sequoia Capital China, SIG Asia Investments, S...</td>\n",
       "    </tr>\n",
       "    <tr>\n",
       "      <th>1</th>\n",
       "      <td>1</td>\n",
       "      <td>SpaceX</td>\n",
       "      <td>127.0</td>\n",
       "      <td>12/1/2012</td>\n",
       "      <td>United States</td>\n",
       "      <td>Hawthorne</td>\n",
       "      <td>Other</td>\n",
       "      <td>Founders Fund, Draper Fisher Jurvetson, Rothen...</td>\n",
       "    </tr>\n",
       "    <tr>\n",
       "      <th>2</th>\n",
       "      <td>2</td>\n",
       "      <td>SHEIN</td>\n",
       "      <td>100.0</td>\n",
       "      <td>7/3/2018</td>\n",
       "      <td>China</td>\n",
       "      <td>Shenzhen</td>\n",
       "      <td>E-commerce &amp; direct-to-consumer</td>\n",
       "      <td>Tiger Global Management, Sequoia Capital China...</td>\n",
       "    </tr>\n",
       "    <tr>\n",
       "      <th>3</th>\n",
       "      <td>3</td>\n",
       "      <td>Stripe</td>\n",
       "      <td>95.0</td>\n",
       "      <td>1/23/2014</td>\n",
       "      <td>United States</td>\n",
       "      <td>San Francisco</td>\n",
       "      <td>Fintech</td>\n",
       "      <td>Khosla Ventures, LowercaseCapital, capitalG</td>\n",
       "    </tr>\n",
       "    <tr>\n",
       "      <th>4</th>\n",
       "      <td>4</td>\n",
       "      <td>Canva</td>\n",
       "      <td>40.0</td>\n",
       "      <td>1/8/2018</td>\n",
       "      <td>Australia</td>\n",
       "      <td>Surry Hills</td>\n",
       "      <td>Internet software &amp; services</td>\n",
       "      <td>Sequoia Capital China, Blackbird Ventures, Mat...</td>\n",
       "    </tr>\n",
       "  </tbody>\n",
       "</table>\n",
       "</div>"
      ],
      "text/plain": [
       "   Unnamed: 0    Company  Valuation ($B) Date Joined        Country  \\\n",
       "0           0  ByteDance           140.0    4/7/2017          China   \n",
       "1           1     SpaceX           127.0   12/1/2012  United States   \n",
       "2           2      SHEIN           100.0    7/3/2018          China   \n",
       "3           3     Stripe            95.0   1/23/2014  United States   \n",
       "4           4      Canva            40.0    1/8/2018      Australia   \n",
       "\n",
       "            City                         Industry  \\\n",
       "0        Beijing          Artificial intelligence   \n",
       "1      Hawthorne                            Other   \n",
       "2       Shenzhen  E-commerce & direct-to-consumer   \n",
       "3  San Francisco                          Fintech   \n",
       "4    Surry Hills     Internet software & services   \n",
       "\n",
       "                                    Select Investors  \n",
       "0  Sequoia Capital China, SIG Asia Investments, S...  \n",
       "1  Founders Fund, Draper Fisher Jurvetson, Rothen...  \n",
       "2  Tiger Global Management, Sequoia Capital China...  \n",
       "3        Khosla Ventures, LowercaseCapital, capitalG  \n",
       "4  Sequoia Capital China, Blackbird Ventures, Mat...  "
      ]
     },
     "execution_count": 15,
     "metadata": {},
     "output_type": "execute_result"
    }
   ],
   "source": [
    "df_unicorn.head()"
   ]
  },
  {
   "cell_type": "markdown",
   "id": "502e134a",
   "metadata": {
    "papermill": {
     "duration": 0.018472,
     "end_time": "2024-04-05T03:54:59.531092",
     "exception": false,
     "start_time": "2024-04-05T03:54:59.512620",
     "status": "completed"
    },
    "tags": []
   },
   "source": [
    "> We have successfully remove `$` sign with our values in `Valuation ($B)` columns and change its type to `float`"
   ]
  },
  {
   "cell_type": "markdown",
   "id": "12537214",
   "metadata": {
    "papermill": {
     "duration": 0.018424,
     "end_time": "2024-04-05T03:54:59.568206",
     "exception": false,
     "start_time": "2024-04-05T03:54:59.549782",
     "status": "completed"
    },
    "tags": []
   },
   "source": [
    "- Changing the type `Date Joined` column from `object` to `Date`"
   ]
  },
  {
   "cell_type": "code",
   "execution_count": 16,
   "id": "1ccefa86",
   "metadata": {
    "execution": {
     "iopub.execute_input": "2024-04-05T03:54:59.607516Z",
     "iopub.status.busy": "2024-04-05T03:54:59.607107Z",
     "iopub.status.idle": "2024-04-05T03:54:59.620189Z",
     "shell.execute_reply": "2024-04-05T03:54:59.619225Z"
    },
    "papermill": {
     "duration": 0.035249,
     "end_time": "2024-04-05T03:54:59.622197",
     "exception": false,
     "start_time": "2024-04-05T03:54:59.586948",
     "status": "completed"
    },
    "tags": []
   },
   "outputs": [],
   "source": [
    "df_unicorn['Date Joined'] = pd.to_datetime(df_unicorn['Date Joined'])"
   ]
  },
  {
   "cell_type": "markdown",
   "id": "ab4bcea9",
   "metadata": {
    "papermill": {
     "duration": 0.01844,
     "end_time": "2024-04-05T03:54:59.659569",
     "exception": false,
     "start_time": "2024-04-05T03:54:59.641129",
     "status": "completed"
    },
    "tags": []
   },
   "source": [
    "> We have successfully change the type of `Date Joined` column from `object` to `Date`"
   ]
  },
  {
   "cell_type": "code",
   "execution_count": 17,
   "id": "6efe4939",
   "metadata": {
    "execution": {
     "iopub.execute_input": "2024-04-05T03:54:59.699517Z",
     "iopub.status.busy": "2024-04-05T03:54:59.698972Z",
     "iopub.status.idle": "2024-04-05T03:54:59.711664Z",
     "shell.execute_reply": "2024-04-05T03:54:59.710035Z"
    },
    "papermill": {
     "duration": 0.035397,
     "end_time": "2024-04-05T03:54:59.713807",
     "exception": false,
     "start_time": "2024-04-05T03:54:59.678410",
     "status": "completed"
    },
    "tags": []
   },
   "outputs": [
    {
     "name": "stdout",
     "output_type": "stream",
     "text": [
      "<class 'pandas.core.frame.DataFrame'>\n",
      "RangeIndex: 1201 entries, 0 to 1200\n",
      "Data columns (total 8 columns):\n",
      " #   Column            Non-Null Count  Dtype         \n",
      "---  ------            --------------  -----         \n",
      " 0   Unnamed: 0        1201 non-null   int64         \n",
      " 1   Company           1201 non-null   object        \n",
      " 2   Valuation ($B)    1201 non-null   float64       \n",
      " 3   Date Joined       1201 non-null   datetime64[ns]\n",
      " 4   Country           1201 non-null   object        \n",
      " 5   City              1183 non-null   object        \n",
      " 6   Industry          1201 non-null   object        \n",
      " 7   Select Investors  1200 non-null   object        \n",
      "dtypes: datetime64[ns](1), float64(1), int64(1), object(5)\n",
      "memory usage: 75.2+ KB\n"
     ]
    }
   ],
   "source": [
    "df_unicorn.info()"
   ]
  },
  {
   "cell_type": "markdown",
   "id": "a86db09b",
   "metadata": {
    "papermill": {
     "duration": 0.019322,
     "end_time": "2024-04-05T03:54:59.752575",
     "exception": false,
     "start_time": "2024-04-05T03:54:59.733253",
     "status": "completed"
    },
    "tags": []
   },
   "source": [
    "- Droping the `Unnamed: 0` column as it contains the id of each row and we don't need this column in our analysis"
   ]
  },
  {
   "cell_type": "code",
   "execution_count": 18,
   "id": "aa107a39",
   "metadata": {
    "execution": {
     "iopub.execute_input": "2024-04-05T03:54:59.792803Z",
     "iopub.status.busy": "2024-04-05T03:54:59.792411Z",
     "iopub.status.idle": "2024-04-05T03:54:59.803748Z",
     "shell.execute_reply": "2024-04-05T03:54:59.802527Z"
    },
    "papermill": {
     "duration": 0.033568,
     "end_time": "2024-04-05T03:54:59.805879",
     "exception": false,
     "start_time": "2024-04-05T03:54:59.772311",
     "status": "completed"
    },
    "tags": []
   },
   "outputs": [],
   "source": [
    "df_unicorn.drop([\"Unnamed: 0\"], axis=1, inplace=True)"
   ]
  },
  {
   "cell_type": "code",
   "execution_count": 19,
   "id": "bdcb376c",
   "metadata": {
    "execution": {
     "iopub.execute_input": "2024-04-05T03:54:59.845677Z",
     "iopub.status.busy": "2024-04-05T03:54:59.845259Z",
     "iopub.status.idle": "2024-04-05T03:54:59.851714Z",
     "shell.execute_reply": "2024-04-05T03:54:59.850867Z"
    },
    "papermill": {
     "duration": 0.029354,
     "end_time": "2024-04-05T03:54:59.854321",
     "exception": false,
     "start_time": "2024-04-05T03:54:59.824967",
     "status": "completed"
    },
    "tags": []
   },
   "outputs": [
    {
     "data": {
      "text/plain": [
       "['Company',\n",
       " 'Valuation ($B)',\n",
       " 'Date Joined',\n",
       " 'Country',\n",
       " 'City',\n",
       " 'Industry',\n",
       " 'Select Investors']"
      ]
     },
     "execution_count": 19,
     "metadata": {},
     "output_type": "execute_result"
    }
   ],
   "source": [
    "list(df_unicorn.columns)"
   ]
  },
  {
   "cell_type": "markdown",
   "id": "9a6e3708",
   "metadata": {
    "papermill": {
     "duration": 0.018816,
     "end_time": "2024-04-05T03:54:59.892403",
     "exception": false,
     "start_time": "2024-04-05T03:54:59.873587",
     "status": "completed"
    },
    "tags": []
   },
   "source": [
    "> As you can see, we have successfully drop the `Unnamed: 0` column"
   ]
  },
  {
   "cell_type": "markdown",
   "id": "88f073b3",
   "metadata": {
    "papermill": {
     "duration": 0.019252,
     "end_time": "2024-04-05T03:54:59.931296",
     "exception": false,
     "start_time": "2024-04-05T03:54:59.912044",
     "status": "completed"
    },
    "tags": []
   },
   "source": [
    "### **2.1. Descriptive Statistics**"
   ]
  },
  {
   "cell_type": "code",
   "execution_count": 20,
   "id": "e5f7e24d",
   "metadata": {
    "execution": {
     "iopub.execute_input": "2024-04-05T03:54:59.971094Z",
     "iopub.status.busy": "2024-04-05T03:54:59.970367Z",
     "iopub.status.idle": "2024-04-05T03:54:59.986368Z",
     "shell.execute_reply": "2024-04-05T03:54:59.985539Z"
    },
    "papermill": {
     "duration": 0.03826,
     "end_time": "2024-04-05T03:54:59.988460",
     "exception": false,
     "start_time": "2024-04-05T03:54:59.950200",
     "status": "completed"
    },
    "tags": []
   },
   "outputs": [
    {
     "data": {
      "text/html": [
       "<div>\n",
       "<style scoped>\n",
       "    .dataframe tbody tr th:only-of-type {\n",
       "        vertical-align: middle;\n",
       "    }\n",
       "\n",
       "    .dataframe tbody tr th {\n",
       "        vertical-align: top;\n",
       "    }\n",
       "\n",
       "    .dataframe thead th {\n",
       "        text-align: right;\n",
       "    }\n",
       "</style>\n",
       "<table border=\"1\" class=\"dataframe\">\n",
       "  <thead>\n",
       "    <tr style=\"text-align: right;\">\n",
       "      <th></th>\n",
       "      <th>Valuation ($B)</th>\n",
       "      <th>Date Joined</th>\n",
       "    </tr>\n",
       "  </thead>\n",
       "  <tbody>\n",
       "    <tr>\n",
       "      <th>count</th>\n",
       "      <td>1201.000000</td>\n",
       "      <td>1201</td>\n",
       "    </tr>\n",
       "    <tr>\n",
       "      <th>mean</th>\n",
       "      <td>3.222981</td>\n",
       "      <td>2020-08-27 03:33:25.328892416</td>\n",
       "    </tr>\n",
       "    <tr>\n",
       "      <th>min</th>\n",
       "      <td>1.000000</td>\n",
       "      <td>2011-04-02 00:00:00</td>\n",
       "    </tr>\n",
       "    <tr>\n",
       "      <th>25%</th>\n",
       "      <td>1.100000</td>\n",
       "      <td>2019-10-16 00:00:00</td>\n",
       "    </tr>\n",
       "    <tr>\n",
       "      <th>50%</th>\n",
       "      <td>1.570000</td>\n",
       "      <td>2021-05-18 00:00:00</td>\n",
       "    </tr>\n",
       "    <tr>\n",
       "      <th>75%</th>\n",
       "      <td>3.000000</td>\n",
       "      <td>2021-11-28 00:00:00</td>\n",
       "    </tr>\n",
       "    <tr>\n",
       "      <th>max</th>\n",
       "      <td>140.000000</td>\n",
       "      <td>2022-11-14 00:00:00</td>\n",
       "    </tr>\n",
       "    <tr>\n",
       "      <th>std</th>\n",
       "      <td>7.595045</td>\n",
       "      <td>NaN</td>\n",
       "    </tr>\n",
       "  </tbody>\n",
       "</table>\n",
       "</div>"
      ],
      "text/plain": [
       "       Valuation ($B)                    Date Joined\n",
       "count     1201.000000                           1201\n",
       "mean         3.222981  2020-08-27 03:33:25.328892416\n",
       "min          1.000000            2011-04-02 00:00:00\n",
       "25%          1.100000            2019-10-16 00:00:00\n",
       "50%          1.570000            2021-05-18 00:00:00\n",
       "75%          3.000000            2021-11-28 00:00:00\n",
       "max        140.000000            2022-11-14 00:00:00\n",
       "std          7.595045                            NaN"
      ]
     },
     "execution_count": 20,
     "metadata": {},
     "output_type": "execute_result"
    }
   ],
   "source": [
    "df_unicorn.describe()"
   ]
  },
  {
   "cell_type": "markdown",
   "id": "fe8574c4",
   "metadata": {
    "papermill": {
     "duration": 0.019818,
     "end_time": "2024-04-05T03:55:00.028466",
     "exception": false,
     "start_time": "2024-04-05T03:55:00.008648",
     "status": "completed"
    },
    "tags": []
   },
   "source": [
    "## Observations:\n",
    "---\n",
    "- Now, we have only `1` columns as numeric type and `1` of type datetime\n",
    "- We can observe the descriptive statistics and make multiple observations as per our hypotheses\n",
    "- We can see that the `\tValuation ($B)` column has a minimum value of `$1 Billion` and a maximum value of `$140 Billion` and mean value of `$3.22 Billion`"
   ]
  },
  {
   "cell_type": "markdown",
   "id": "fb57009b",
   "metadata": {
    "papermill": {
     "duration": 0.019479,
     "end_time": "2024-04-05T03:55:00.068336",
     "exception": false,
     "start_time": "2024-04-05T03:55:00.048857",
     "status": "completed"
    },
    "tags": []
   },
   "source": [
    "## **2.2. Dealing with the missing values**\n",
    "- Dealing with the missing values is one of the most important part of the data wrangling process, we must deal with the missing values in order to get the correct insights from the data."
   ]
  },
  {
   "cell_type": "markdown",
   "id": "124cec59",
   "metadata": {
    "papermill": {
     "duration": 0.019355,
     "end_time": "2024-04-05T03:55:00.107151",
     "exception": false,
     "start_time": "2024-04-05T03:55:00.087796",
     "status": "completed"
    },
    "tags": []
   },
   "source": [
    "- Let's have a look on the missing values in the dataset"
   ]
  },
  {
   "cell_type": "code",
   "execution_count": 21,
   "id": "b0ba23f1",
   "metadata": {
    "execution": {
     "iopub.execute_input": "2024-04-05T03:55:00.147636Z",
     "iopub.status.busy": "2024-04-05T03:55:00.147000Z",
     "iopub.status.idle": "2024-04-05T03:55:00.155920Z",
     "shell.execute_reply": "2024-04-05T03:55:00.154545Z"
    },
    "papermill": {
     "duration": 0.032549,
     "end_time": "2024-04-05T03:55:00.159072",
     "exception": false,
     "start_time": "2024-04-05T03:55:00.126523",
     "status": "completed"
    },
    "tags": []
   },
   "outputs": [
    {
     "data": {
      "text/plain": [
       "Company              0\n",
       "Valuation ($B)       0\n",
       "Date Joined          0\n",
       "Country              0\n",
       "City                18\n",
       "Industry             0\n",
       "Select Investors     1\n",
       "dtype: int64"
      ]
     },
     "execution_count": 21,
     "metadata": {},
     "output_type": "execute_result"
    }
   ],
   "source": [
    "df_unicorn.isnull().sum()"
   ]
  },
  {
   "cell_type": "markdown",
   "id": "4d390c3a",
   "metadata": {
    "papermill": {
     "duration": 0.019292,
     "end_time": "2024-04-05T03:55:00.198565",
     "exception": false,
     "start_time": "2024-04-05T03:55:00.179273",
     "status": "completed"
    },
    "tags": []
   },
   "source": [
    "- Sorting the columns based on the missing values in Descending order"
   ]
  },
  {
   "cell_type": "code",
   "execution_count": 22,
   "id": "a9ce5dc6",
   "metadata": {
    "execution": {
     "iopub.execute_input": "2024-04-05T03:55:00.239463Z",
     "iopub.status.busy": "2024-04-05T03:55:00.239083Z",
     "iopub.status.idle": "2024-04-05T03:55:00.248110Z",
     "shell.execute_reply": "2024-04-05T03:55:00.246979Z"
    },
    "papermill": {
     "duration": 0.032327,
     "end_time": "2024-04-05T03:55:00.250276",
     "exception": false,
     "start_time": "2024-04-05T03:55:00.217949",
     "status": "completed"
    },
    "tags": []
   },
   "outputs": [
    {
     "data": {
      "text/plain": [
       "City                18\n",
       "Select Investors     1\n",
       "Company              0\n",
       "Valuation ($B)       0\n",
       "Date Joined          0\n",
       "Country              0\n",
       "Industry             0\n",
       "dtype: int64"
      ]
     },
     "execution_count": 22,
     "metadata": {},
     "output_type": "execute_result"
    }
   ],
   "source": [
    "df_unicorn.isnull().sum().sort_values(ascending=False)"
   ]
  },
  {
   "cell_type": "markdown",
   "id": "2caf911f",
   "metadata": {
    "papermill": {
     "duration": 0.019511,
     "end_time": "2024-04-05T03:55:00.289607",
     "exception": false,
     "start_time": "2024-04-05T03:55:00.270096",
     "status": "completed"
    },
    "tags": []
   },
   "source": [
    "- Showing the total number of null values in the dataset"
   ]
  },
  {
   "cell_type": "code",
   "execution_count": 23,
   "id": "e17b4cd2",
   "metadata": {
    "execution": {
     "iopub.execute_input": "2024-04-05T03:55:00.330323Z",
     "iopub.status.busy": "2024-04-05T03:55:00.329971Z",
     "iopub.status.idle": "2024-04-05T03:55:00.336946Z",
     "shell.execute_reply": "2024-04-05T03:55:00.336120Z"
    },
    "papermill": {
     "duration": 0.029774,
     "end_time": "2024-04-05T03:55:00.338754",
     "exception": false,
     "start_time": "2024-04-05T03:55:00.308980",
     "status": "completed"
    },
    "tags": []
   },
   "outputs": [
    {
     "data": {
      "text/plain": [
       "19"
      ]
     },
     "execution_count": 23,
     "metadata": {},
     "output_type": "execute_result"
    }
   ],
   "source": [
    "df_unicorn.isnull().sum().sum()"
   ]
  },
  {
   "cell_type": "markdown",
   "id": "993b7115",
   "metadata": {
    "papermill": {
     "duration": 0.019506,
     "end_time": "2024-04-05T03:55:00.378459",
     "exception": false,
     "start_time": "2024-04-05T03:55:00.358953",
     "status": "completed"
    },
    "tags": []
   },
   "source": [
    "- Showing the percentage of null values in eah column"
   ]
  },
  {
   "cell_type": "code",
   "execution_count": 24,
   "id": "c0b990ee",
   "metadata": {
    "execution": {
     "iopub.execute_input": "2024-04-05T03:55:00.419662Z",
     "iopub.status.busy": "2024-04-05T03:55:00.418847Z",
     "iopub.status.idle": "2024-04-05T03:55:00.428055Z",
     "shell.execute_reply": "2024-04-05T03:55:00.427191Z"
    },
    "papermill": {
     "duration": 0.032217,
     "end_time": "2024-04-05T03:55:00.430277",
     "exception": false,
     "start_time": "2024-04-05T03:55:00.398060",
     "status": "completed"
    },
    "tags": []
   },
   "outputs": [
    {
     "data": {
      "text/plain": [
       "City                1.498751\n",
       "Select Investors    0.083264\n",
       "Company             0.000000\n",
       "Valuation ($B)      0.000000\n",
       "Date Joined         0.000000\n",
       "Country             0.000000\n",
       "Industry            0.000000\n",
       "dtype: float64"
      ]
     },
     "execution_count": 24,
     "metadata": {},
     "output_type": "execute_result"
    }
   ],
   "source": [
    "(df_unicorn.isnull().sum()/len(df_unicorn) *100).sort_values(ascending=False)"
   ]
  },
  {
   "cell_type": "markdown",
   "id": "a0b037f5",
   "metadata": {
    "papermill": {
     "duration": 0.019275,
     "end_time": "2024-04-05T03:55:00.469227",
     "exception": false,
     "start_time": "2024-04-05T03:55:00.449952",
     "status": "completed"
    },
    "tags": []
   },
   "source": [
    "- Let's plot the missing values in the dataset"
   ]
  },
  {
   "cell_type": "code",
   "execution_count": 25,
   "id": "2bc20b12",
   "metadata": {
    "execution": {
     "iopub.execute_input": "2024-04-05T03:55:00.510259Z",
     "iopub.status.busy": "2024-04-05T03:55:00.509653Z",
     "iopub.status.idle": "2024-04-05T03:55:00.739007Z",
     "shell.execute_reply": "2024-04-05T03:55:00.737819Z"
    },
    "papermill": {
     "duration": 0.25263,
     "end_time": "2024-04-05T03:55:00.741407",
     "exception": false,
     "start_time": "2024-04-05T03:55:00.488777",
     "status": "completed"
    },
    "tags": []
   },
   "outputs": [
    {
     "data": {
      "text/plain": [
       "<Axes: >"
      ]
     },
     "execution_count": 25,
     "metadata": {},
     "output_type": "execute_result"
    },
    {
     "data": {
      "image/png": "[encoded data removed]",
      "text/plain": [
       "<Figure size 1500x500 with 1 Axes>"
      ]
     },
     "metadata": {},
     "output_type": "display_data"
    }
   ],
   "source": [
    "plt.figure(figsize=(15,5))\n",
    "sns.heatmap(df_unicorn.isnull(), yticklabels=False, cbar=False, cmap='viridis')"
   ]
  },
  {
   "cell_type": "markdown",
   "id": "a7659b7d",
   "metadata": {
    "papermill": {
     "duration": 0.020111,
     "end_time": "2024-04-05T03:55:00.781864",
     "exception": false,
     "start_time": "2024-04-05T03:55:00.761753",
     "status": "completed"
    },
    "tags": []
   },
   "source": [
    "- Plotting the missing values by percentage"
   ]
  },
  {
   "cell_type": "code",
   "execution_count": 26,
   "id": "7bf614ae",
   "metadata": {
    "execution": {
     "iopub.execute_input": "2024-04-05T03:55:00.824877Z",
     "iopub.status.busy": "2024-04-05T03:55:00.824461Z",
     "iopub.status.idle": "2024-04-05T03:55:01.185668Z",
     "shell.execute_reply": "2024-04-05T03:55:01.184008Z"
    },
    "papermill": {
     "duration": 0.386504,
     "end_time": "2024-04-05T03:55:01.188919",
     "exception": false,
     "start_time": "2024-04-05T03:55:00.802415",
     "status": "completed"
    },
    "tags": []
   },
   "outputs": [
    {
     "data": {
      "image/png": "[encoded data removed]",
      "text/plain": [
       "<Figure size 1000x400 with 1 Axes>"
      ]
     },
     "metadata": {},
     "output_type": "display_data"
    }
   ],
   "source": [
    "missing_percentage = df_unicorn.isnull().sum()/len(df_unicorn)*100\n",
    "plt.figure(figsize=(10,4))\n",
    "plt.bar(df_unicorn.columns, missing_percentage, width=0.5, color=\"c\", edgecolor=\"w\", linewidth=3, alpha=0.7)\n",
    "plt.title(\"Missing values Percentage (bar chart)\")\n",
    "plt.xlabel(\"Columns\")\n",
    "plt.ylabel(\"Percentage\")\n",
    "plt.legend()\n",
    "plt.show()"
   ]
  },
  {
   "cell_type": "code",
   "execution_count": 27,
   "id": "d4fb01d1",
   "metadata": {
    "execution": {
     "iopub.execute_input": "2024-04-05T03:55:01.232842Z",
     "iopub.status.busy": "2024-04-05T03:55:01.232450Z",
     "iopub.status.idle": "2024-04-05T03:55:01.241764Z",
     "shell.execute_reply": "2024-04-05T03:55:01.240718Z"
    },
    "papermill": {
     "duration": 0.033691,
     "end_time": "2024-04-05T03:55:01.243865",
     "exception": false,
     "start_time": "2024-04-05T03:55:01.210174",
     "status": "completed"
    },
    "tags": []
   },
   "outputs": [
    {
     "data": {
      "text/plain": [
       "Company             0.000000\n",
       "Valuation ($B)      0.000000\n",
       "Date Joined         0.000000\n",
       "Country             0.000000\n",
       "City                1.498751\n",
       "Industry            0.000000\n",
       "Select Investors    0.083264\n",
       "dtype: float64"
      ]
     },
     "execution_count": 27,
     "metadata": {},
     "output_type": "execute_result"
    }
   ],
   "source": [
    "missing_percentage = df_unicorn.isnull().sum()/len(df_unicorn)*100\n",
    "missing_percentage"
   ]
  },
  {
   "cell_type": "code",
   "execution_count": 28,
   "id": "030aa860",
   "metadata": {
    "execution": {
     "iopub.execute_input": "2024-04-05T03:55:01.287034Z",
     "iopub.status.busy": "2024-04-05T03:55:01.286654Z",
     "iopub.status.idle": "2024-04-05T03:55:01.293296Z",
     "shell.execute_reply": "2024-04-05T03:55:01.292294Z"
    },
    "papermill": {
     "duration": 0.030983,
     "end_time": "2024-04-05T03:55:01.295543",
     "exception": false,
     "start_time": "2024-04-05T03:55:01.264560",
     "status": "completed"
    },
    "tags": []
   },
   "outputs": [
    {
     "data": {
      "text/plain": [
       "Index(['Company', 'Valuation ($B)', 'Date Joined', 'Country', 'City',\n",
       "       'Industry', 'Select Investors'],\n",
       "      dtype='object')"
      ]
     },
     "execution_count": 28,
     "metadata": {},
     "output_type": "execute_result"
    }
   ],
   "source": [
    "df_unicorn.columns"
   ]
  },
  {
   "cell_type": "markdown",
   "id": "e4aec604",
   "metadata": {
    "papermill": {
     "duration": 0.02106,
     "end_time": "2024-04-05T03:55:01.337651",
     "exception": false,
     "start_time": "2024-04-05T03:55:01.316591",
     "status": "completed"
    },
    "tags": []
   },
   "source": [
    "## Observations:\n",
    "---\n",
    "- We have `18` missing values i.e `1.49%` in `City` column and `1` missing value i.e `0.08%` in `Select Investors` column\n",
    "- As both columns are of categorical type so we will impute them through **mode imputation** technique\n",
    "---"
   ]
  },
  {
   "cell_type": "markdown",
   "id": "b5f5c06f",
   "metadata": {
    "papermill": {
     "duration": 0.02092,
     "end_time": "2024-04-05T03:55:01.380188",
     "exception": false,
     "start_time": "2024-04-05T03:55:01.359268",
     "status": "completed"
    },
    "tags": []
   },
   "source": [
    "- Imputing missing values"
   ]
  },
  {
   "cell_type": "code",
   "execution_count": 29,
   "id": "0b89a745",
   "metadata": {
    "execution": {
     "iopub.execute_input": "2024-04-05T03:55:01.425414Z",
     "iopub.status.busy": "2024-04-05T03:55:01.424973Z",
     "iopub.status.idle": "2024-04-05T03:55:01.434295Z",
     "shell.execute_reply": "2024-04-05T03:55:01.433123Z"
    },
    "papermill": {
     "duration": 0.034058,
     "end_time": "2024-04-05T03:55:01.436340",
     "exception": false,
     "start_time": "2024-04-05T03:55:01.402282",
     "status": "completed"
    },
    "tags": []
   },
   "outputs": [],
   "source": [
    "city_mode = df_unicorn['City'].mode()[0]\n",
    "investors_mode = df_unicorn['Select Investors'].mode()[0]\n",
    "\n",
    "df_unicorn['City'].fillna(city_mode, inplace=True)\n",
    "df_unicorn['Select Investors'].fillna(investors_mode, inplace=True)\n"
   ]
  },
  {
   "cell_type": "markdown",
   "id": "6c9110ea",
   "metadata": {
    "papermill": {
     "duration": 0.020589,
     "end_time": "2024-04-05T03:55:01.477765",
     "exception": false,
     "start_time": "2024-04-05T03:55:01.457176",
     "status": "completed"
    },
    "tags": []
   },
   "source": [
    "- Verifying imputation of null values"
   ]
  },
  {
   "cell_type": "code",
   "execution_count": 30,
   "id": "7bc5e52e",
   "metadata": {
    "execution": {
     "iopub.execute_input": "2024-04-05T03:55:01.521824Z",
     "iopub.status.busy": "2024-04-05T03:55:01.521126Z",
     "iopub.status.idle": "2024-04-05T03:55:01.529922Z",
     "shell.execute_reply": "2024-04-05T03:55:01.529036Z"
    },
    "papermill": {
     "duration": 0.033192,
     "end_time": "2024-04-05T03:55:01.531779",
     "exception": false,
     "start_time": "2024-04-05T03:55:01.498587",
     "status": "completed"
    },
    "tags": []
   },
   "outputs": [
    {
     "data": {
      "text/plain": [
       "Company             0\n",
       "Valuation ($B)      0\n",
       "Date Joined         0\n",
       "Country             0\n",
       "City                0\n",
       "Industry            0\n",
       "Select Investors    0\n",
       "dtype: int64"
      ]
     },
     "execution_count": 30,
     "metadata": {},
     "output_type": "execute_result"
    }
   ],
   "source": [
    "df_unicorn.isnull().sum()"
   ]
  },
  {
   "cell_type": "markdown",
   "id": "580c1e96",
   "metadata": {
    "papermill": {
     "duration": 0.020424,
     "end_time": "2024-04-05T03:55:01.573023",
     "exception": false,
     "start_time": "2024-04-05T03:55:01.552599",
     "status": "completed"
    },
    "tags": []
   },
   "source": [
    "> **Note**: As you can see we have `0` missing values in our dataset. So our dataset is properly clean from missing values"
   ]
  },
  {
   "cell_type": "markdown",
   "id": "3933658c",
   "metadata": {
    "papermill": {
     "duration": 0.02071,
     "end_time": "2024-04-05T03:55:01.614778",
     "exception": false,
     "start_time": "2024-04-05T03:55:01.594068",
     "status": "completed"
    },
    "tags": []
   },
   "source": [
    "## **2.3. Dealing with the Duplicates values**\n",
    "- Removing duplicates is one of the most important part of the data wrangling process, we must remove the duplicates in order to get the correct insights from the data\n",
    "- If you do not remove duplicates from a dataset, it can lead to incorrect insights and analysis\n",
    "- Duplicates can skew statistical measures such as mean, median, and standard deviation, and can also lead to over-representation of certain data points\n",
    "- It is important to remove duplicates to ensure the accuracy and reliability of your data analysis"
   ]
  },
  {
   "cell_type": "markdown",
   "id": "a7b4e3cc",
   "metadata": {
    "papermill": {
     "duration": 0.020616,
     "end_time": "2024-04-05T03:55:01.656408",
     "exception": false,
     "start_time": "2024-04-05T03:55:01.635792",
     "status": "completed"
    },
    "tags": []
   },
   "source": [
    "- Checking duplicates in the dataset"
   ]
  },
  {
   "cell_type": "code",
   "execution_count": 31,
   "id": "6f0de614",
   "metadata": {
    "execution": {
     "iopub.execute_input": "2024-04-05T03:55:01.700256Z",
     "iopub.status.busy": "2024-04-05T03:55:01.699884Z",
     "iopub.status.idle": "2024-04-05T03:55:01.707377Z",
     "shell.execute_reply": "2024-04-05T03:55:01.706649Z"
    },
    "papermill": {
     "duration": 0.03214,
     "end_time": "2024-04-05T03:55:01.709696",
     "exception": false,
     "start_time": "2024-04-05T03:55:01.677556",
     "status": "completed"
    },
    "tags": []
   },
   "outputs": [
    {
     "data": {
      "text/plain": [
       "0"
      ]
     },
     "execution_count": 31,
     "metadata": {},
     "output_type": "execute_result"
    }
   ],
   "source": [
    "df_unicorn.duplicated().sum()"
   ]
  },
  {
   "cell_type": "markdown",
   "id": "7e1a076c",
   "metadata": {
    "papermill": {
     "duration": 0.021768,
     "end_time": "2024-04-05T03:55:01.752602",
     "exception": false,
     "start_time": "2024-04-05T03:55:01.730834",
     "status": "completed"
    },
    "tags": []
   },
   "source": [
    "- **Note:** No duplicate values are found, so we are good to go"
   ]
  },
  {
   "cell_type": "markdown",
   "id": "e58521c8",
   "metadata": {
    "papermill": {
     "duration": 0.021471,
     "end_time": "2024-04-05T03:55:01.795304",
     "exception": false,
     "start_time": "2024-04-05T03:55:01.773833",
     "status": "completed"
    },
    "tags": []
   },
   "source": [
    "## **3.0 Insights from Data**"
   ]
  },
  {
   "cell_type": "code",
   "execution_count": 32,
   "id": "907c3389",
   "metadata": {
    "execution": {
     "iopub.execute_input": "2024-04-05T03:55:01.840532Z",
     "iopub.status.busy": "2024-04-05T03:55:01.840107Z",
     "iopub.status.idle": "2024-04-05T03:55:01.846629Z",
     "shell.execute_reply": "2024-04-05T03:55:01.845523Z"
    },
    "papermill": {
     "duration": 0.031901,
     "end_time": "2024-04-05T03:55:01.848946",
     "exception": false,
     "start_time": "2024-04-05T03:55:01.817045",
     "status": "completed"
    },
    "tags": []
   },
   "outputs": [
    {
     "data": {
      "text/plain": [
       "Index(['Company', 'Valuation ($B)', 'Date Joined', 'Country', 'City',\n",
       "       'Industry', 'Select Investors'],\n",
       "      dtype='object')"
      ]
     },
     "execution_count": 32,
     "metadata": {},
     "output_type": "execute_result"
    }
   ],
   "source": [
    "df_unicorn.columns"
   ]
  },
  {
   "cell_type": "markdown",
   "id": "3f0991ee",
   "metadata": {
    "papermill": {
     "duration": 0.021775,
     "end_time": "2024-04-05T03:55:01.892760",
     "exception": false,
     "start_time": "2024-04-05T03:55:01.870985",
     "status": "completed"
    },
    "tags": []
   },
   "source": [
    "### **3.1 Identify the top `10` countries with highest number of unicorn companies?**\n"
   ]
  },
  {
   "cell_type": "code",
   "execution_count": 33,
   "id": "27915dd8",
   "metadata": {
    "execution": {
     "iopub.execute_input": "2024-04-05T03:55:01.936945Z",
     "iopub.status.busy": "2024-04-05T03:55:01.936572Z",
     "iopub.status.idle": "2024-04-05T03:55:01.943594Z",
     "shell.execute_reply": "2024-04-05T03:55:01.942524Z"
    },
    "papermill": {
     "duration": 0.031544,
     "end_time": "2024-04-05T03:55:01.945682",
     "exception": false,
     "start_time": "2024-04-05T03:55:01.914138",
     "status": "completed"
    },
    "tags": []
   },
   "outputs": [],
   "source": [
    "sorted_countries = df_unicorn['Country'].value_counts().sort_values(ascending=False)\n",
    "top_ten_countries = sorted_countries[:10]\n",
    "\n",
    "top_ten_countries_name = top_ten_countries.index\n",
    "top_ten_countries_count = top_ten_countries.values"
   ]
  },
  {
   "cell_type": "code",
   "execution_count": 34,
   "id": "de89edad",
   "metadata": {
    "execution": {
     "iopub.execute_input": "2024-04-05T03:55:01.989905Z",
     "iopub.status.busy": "2024-04-05T03:55:01.989496Z",
     "iopub.status.idle": "2024-04-05T03:55:01.997060Z",
     "shell.execute_reply": "2024-04-05T03:55:01.995865Z"
    },
    "papermill": {
     "duration": 0.032442,
     "end_time": "2024-04-05T03:55:01.999233",
     "exception": false,
     "start_time": "2024-04-05T03:55:01.966791",
     "status": "completed"
    },
    "tags": []
   },
   "outputs": [
    {
     "data": {
      "text/plain": [
       "Country\n",
       "United States     645\n",
       "China             173\n",
       "India              70\n",
       "United Kingdom     48\n",
       "Germany            29\n",
       "Israel             23\n",
       "France             23\n",
       "Canada             20\n",
       "Brazil             16\n",
       "South Korea        16\n",
       "Name: count, dtype: int64"
      ]
     },
     "execution_count": 34,
     "metadata": {},
     "output_type": "execute_result"
    }
   ],
   "source": [
    "top_ten_countries"
   ]
  },
  {
   "cell_type": "code",
   "execution_count": 35,
   "id": "78b2abca",
   "metadata": {
    "execution": {
     "iopub.execute_input": "2024-04-05T03:55:02.044156Z",
     "iopub.status.busy": "2024-04-05T03:55:02.043739Z",
     "iopub.status.idle": "2024-04-05T03:55:02.380352Z",
     "shell.execute_reply": "2024-04-05T03:55:02.379222Z"
    },
    "papermill": {
     "duration": 0.362293,
     "end_time": "2024-04-05T03:55:02.383067",
     "exception": false,
     "start_time": "2024-04-05T03:55:02.020774",
     "status": "completed"
    },
    "tags": []
   },
   "outputs": [
    {
     "data": {
      "image/png": "[encoded data removed]",
      "text/plain": [
       "<Figure size 1300x500 with 1 Axes>"
      ]
     },
     "metadata": {},
     "output_type": "display_data"
    }
   ],
   "source": [
    "from matplotlib import style\n",
    "style.use(\"ggplot\")\n",
    "\n",
    "plt.figure(figsize=(13,5))\n",
    "plt.bar(top_ten_countries_name, top_ten_countries_count, width=0.8, color=\"c\", \\\n",
    "        edgecolor=\"w\", linewidth=3, alpha=0.7)\n",
    "# plt.yscale('log')\n",
    "plt.title(\"Top 10 Countries Leading the Unicorn Race\")\n",
    "plt.xlabel(\"Countries\")\n",
    "plt.ylabel(\"Counts\")\n",
    "plt.xticks(rotation=35)\n",
    "plt.show()"
   ]
  },
  {
   "cell_type": "markdown",
   "id": "ffade129",
   "metadata": {
    "papermill": {
     "duration": 0.021957,
     "end_time": "2024-04-05T03:55:02.427163",
     "exception": false,
     "start_time": "2024-04-05T03:55:02.405206",
     "status": "completed"
    },
    "tags": []
   },
   "source": [
    "### **3.2 Which are the top 10 most valued unicorn companies?**"
   ]
  },
  {
   "cell_type": "code",
   "execution_count": 36,
   "id": "2f106ead",
   "metadata": {
    "execution": {
     "iopub.execute_input": "2024-04-05T03:55:02.473992Z",
     "iopub.status.busy": "2024-04-05T03:55:02.473023Z",
     "iopub.status.idle": "2024-04-05T03:55:02.485077Z",
     "shell.execute_reply": "2024-04-05T03:55:02.483955Z"
    },
    "papermill": {
     "duration": 0.03791,
     "end_time": "2024-04-05T03:55:02.487177",
     "exception": false,
     "start_time": "2024-04-05T03:55:02.449267",
     "status": "completed"
    },
    "tags": []
   },
   "outputs": [
    {
     "data": {
      "text/html": [
       "<div>\n",
       "<style scoped>\n",
       "    .dataframe tbody tr th:only-of-type {\n",
       "        vertical-align: middle;\n",
       "    }\n",
       "\n",
       "    .dataframe tbody tr th {\n",
       "        vertical-align: top;\n",
       "    }\n",
       "\n",
       "    .dataframe thead th {\n",
       "        text-align: right;\n",
       "    }\n",
       "</style>\n",
       "<table border=\"1\" class=\"dataframe\">\n",
       "  <thead>\n",
       "    <tr style=\"text-align: right;\">\n",
       "      <th></th>\n",
       "      <th>Company</th>\n",
       "      <th>Valuation ($B)</th>\n",
       "    </tr>\n",
       "  </thead>\n",
       "  <tbody>\n",
       "    <tr>\n",
       "      <th>0</th>\n",
       "      <td>ByteDance</td>\n",
       "      <td>140.0</td>\n",
       "    </tr>\n",
       "    <tr>\n",
       "      <th>1</th>\n",
       "      <td>SpaceX</td>\n",
       "      <td>127.0</td>\n",
       "    </tr>\n",
       "    <tr>\n",
       "      <th>2</th>\n",
       "      <td>SHEIN</td>\n",
       "      <td>100.0</td>\n",
       "    </tr>\n",
       "    <tr>\n",
       "      <th>3</th>\n",
       "      <td>Stripe</td>\n",
       "      <td>95.0</td>\n",
       "    </tr>\n",
       "    <tr>\n",
       "      <th>4</th>\n",
       "      <td>Canva</td>\n",
       "      <td>40.0</td>\n",
       "    </tr>\n",
       "    <tr>\n",
       "      <th>5</th>\n",
       "      <td>Checkout.com</td>\n",
       "      <td>40.0</td>\n",
       "    </tr>\n",
       "    <tr>\n",
       "      <th>6</th>\n",
       "      <td>Instacart</td>\n",
       "      <td>39.0</td>\n",
       "    </tr>\n",
       "    <tr>\n",
       "      <th>7</th>\n",
       "      <td>Databricks</td>\n",
       "      <td>38.0</td>\n",
       "    </tr>\n",
       "    <tr>\n",
       "      <th>8</th>\n",
       "      <td>Revolut</td>\n",
       "      <td>33.0</td>\n",
       "    </tr>\n",
       "    <tr>\n",
       "      <th>9</th>\n",
       "      <td>Epic Games</td>\n",
       "      <td>31.5</td>\n",
       "    </tr>\n",
       "  </tbody>\n",
       "</table>\n",
       "</div>"
      ],
      "text/plain": [
       "        Company  Valuation ($B)\n",
       "0     ByteDance           140.0\n",
       "1        SpaceX           127.0\n",
       "2         SHEIN           100.0\n",
       "3        Stripe            95.0\n",
       "4         Canva            40.0\n",
       "5  Checkout.com            40.0\n",
       "6     Instacart            39.0\n",
       "7    Databricks            38.0\n",
       "8       Revolut            33.0\n",
       "9    Epic Games            31.5"
      ]
     },
     "execution_count": 36,
     "metadata": {},
     "output_type": "execute_result"
    }
   ],
   "source": [
    "df_unicorn[['Company', 'Valuation ($B)']].head(10)"
   ]
  },
  {
   "cell_type": "code",
   "execution_count": 37,
   "id": "ecd022cc",
   "metadata": {
    "execution": {
     "iopub.execute_input": "2024-04-05T03:55:02.536589Z",
     "iopub.status.busy": "2024-04-05T03:55:02.535956Z",
     "iopub.status.idle": "2024-04-05T03:55:02.540972Z",
     "shell.execute_reply": "2024-04-05T03:55:02.540241Z"
    },
    "papermill": {
     "duration": 0.032887,
     "end_time": "2024-04-05T03:55:02.542987",
     "exception": false,
     "start_time": "2024-04-05T03:55:02.510100",
     "status": "completed"
    },
    "tags": []
   },
   "outputs": [],
   "source": [
    "top_ten_companies = df_unicorn['Company'].head(10)\n",
    "top_ten_valuations = df_unicorn['Valuation ($B)'].head(10)"
   ]
  },
  {
   "cell_type": "code",
   "execution_count": 38,
   "id": "749988c9",
   "metadata": {
    "execution": {
     "iopub.execute_input": "2024-04-05T03:55:02.590490Z",
     "iopub.status.busy": "2024-04-05T03:55:02.590043Z",
     "iopub.status.idle": "2024-04-05T03:55:02.883197Z",
     "shell.execute_reply": "2024-04-05T03:55:02.882026Z"
    },
    "papermill": {
     "duration": 0.31975,
     "end_time": "2024-04-05T03:55:02.885737",
     "exception": false,
     "start_time": "2024-04-05T03:55:02.565987",
     "status": "completed"
    },
    "tags": []
   },
   "outputs": [
    {
     "data": {
      "image/png": "[encoded data removed]",
      "text/plain": [
       "<Figure size 1000x500 with 1 Axes>"
      ]
     },
     "metadata": {},
     "output_type": "display_data"
    }
   ],
   "source": [
    "plt.figure(figsize=(10,5))\n",
    "plt.barh(top_ten_companies[::-1], top_ten_valuations[::-1], color=\"c\", \\\n",
    "        edgecolor=\"w\", linewidth=3, alpha=0.5)\n",
    "plt.title(\"Top 10 Most Valued Unicorn Companies\")\n",
    "plt.ylabel(\"Companies\")\n",
    "plt.xlabel(\"Valuation ($ Billons)\")\n",
    "plt.show()"
   ]
  },
  {
   "cell_type": "code",
   "execution_count": 39,
   "id": "285e7f1d",
   "metadata": {
    "execution": {
     "iopub.execute_input": "2024-04-05T03:55:02.948345Z",
     "iopub.status.busy": "2024-04-05T03:55:02.947395Z",
     "iopub.status.idle": "2024-04-05T03:55:02.965741Z",
     "shell.execute_reply": "2024-04-05T03:55:02.964195Z"
    },
    "papermill": {
     "duration": 0.048843,
     "end_time": "2024-04-05T03:55:02.968823",
     "exception": false,
     "start_time": "2024-04-05T03:55:02.919980",
     "status": "completed"
    },
    "tags": []
   },
   "outputs": [
    {
     "data": {
      "text/html": [
       "<div>\n",
       "<style scoped>\n",
       "    .dataframe tbody tr th:only-of-type {\n",
       "        vertical-align: middle;\n",
       "    }\n",
       "\n",
       "    .dataframe tbody tr th {\n",
       "        vertical-align: top;\n",
       "    }\n",
       "\n",
       "    .dataframe thead th {\n",
       "        text-align: right;\n",
       "    }\n",
       "</style>\n",
       "<table border=\"1\" class=\"dataframe\">\n",
       "  <thead>\n",
       "    <tr style=\"text-align: right;\">\n",
       "      <th></th>\n",
       "      <th>Company</th>\n",
       "      <th>Valuation ($B)</th>\n",
       "      <th>Date Joined</th>\n",
       "      <th>Country</th>\n",
       "      <th>City</th>\n",
       "      <th>Industry</th>\n",
       "      <th>Select Investors</th>\n",
       "    </tr>\n",
       "  </thead>\n",
       "  <tbody>\n",
       "    <tr>\n",
       "      <th>0</th>\n",
       "      <td>ByteDance</td>\n",
       "      <td>140.0</td>\n",
       "      <td>2017-04-07</td>\n",
       "      <td>China</td>\n",
       "      <td>Beijing</td>\n",
       "      <td>Artificial intelligence</td>\n",
       "      <td>Sequoia Capital China, SIG Asia Investments, S...</td>\n",
       "    </tr>\n",
       "    <tr>\n",
       "      <th>1</th>\n",
       "      <td>SpaceX</td>\n",
       "      <td>127.0</td>\n",
       "      <td>2012-12-01</td>\n",
       "      <td>United States</td>\n",
       "      <td>Hawthorne</td>\n",
       "      <td>Other</td>\n",
       "      <td>Founders Fund, Draper Fisher Jurvetson, Rothen...</td>\n",
       "    </tr>\n",
       "    <tr>\n",
       "      <th>2</th>\n",
       "      <td>SHEIN</td>\n",
       "      <td>100.0</td>\n",
       "      <td>2018-07-03</td>\n",
       "      <td>China</td>\n",
       "      <td>Shenzhen</td>\n",
       "      <td>E-commerce &amp; direct-to-consumer</td>\n",
       "      <td>Tiger Global Management, Sequoia Capital China...</td>\n",
       "    </tr>\n",
       "    <tr>\n",
       "      <th>3</th>\n",
       "      <td>Stripe</td>\n",
       "      <td>95.0</td>\n",
       "      <td>2014-01-23</td>\n",
       "      <td>United States</td>\n",
       "      <td>San Francisco</td>\n",
       "      <td>Fintech</td>\n",
       "      <td>Khosla Ventures, LowercaseCapital, capitalG</td>\n",
       "    </tr>\n",
       "    <tr>\n",
       "      <th>4</th>\n",
       "      <td>Canva</td>\n",
       "      <td>40.0</td>\n",
       "      <td>2018-01-08</td>\n",
       "      <td>Australia</td>\n",
       "      <td>Surry Hills</td>\n",
       "      <td>Internet software &amp; services</td>\n",
       "      <td>Sequoia Capital China, Blackbird Ventures, Mat...</td>\n",
       "    </tr>\n",
       "    <tr>\n",
       "      <th>5</th>\n",
       "      <td>Checkout.com</td>\n",
       "      <td>40.0</td>\n",
       "      <td>2019-05-02</td>\n",
       "      <td>United Kingdom</td>\n",
       "      <td>London</td>\n",
       "      <td>Fintech</td>\n",
       "      <td>Tiger Global Management, Insight Partners, DST...</td>\n",
       "    </tr>\n",
       "    <tr>\n",
       "      <th>6</th>\n",
       "      <td>Instacart</td>\n",
       "      <td>39.0</td>\n",
       "      <td>2014-12-30</td>\n",
       "      <td>United States</td>\n",
       "      <td>San Francisco</td>\n",
       "      <td>Supply chain, logistics, &amp; delivery</td>\n",
       "      <td>Khosla Ventures, Kleiner Perkins Caufield &amp; By...</td>\n",
       "    </tr>\n",
       "    <tr>\n",
       "      <th>7</th>\n",
       "      <td>Databricks</td>\n",
       "      <td>38.0</td>\n",
       "      <td>2019-02-05</td>\n",
       "      <td>United States</td>\n",
       "      <td>San Francisco</td>\n",
       "      <td>Data management &amp; analytics</td>\n",
       "      <td>Andreessen Horowitz, New Enterprise Associates...</td>\n",
       "    </tr>\n",
       "    <tr>\n",
       "      <th>8</th>\n",
       "      <td>Revolut</td>\n",
       "      <td>33.0</td>\n",
       "      <td>2018-04-26</td>\n",
       "      <td>United Kingdom</td>\n",
       "      <td>London</td>\n",
       "      <td>Fintech</td>\n",
       "      <td>index Ventures, DST Global, Ribbit Capital</td>\n",
       "    </tr>\n",
       "    <tr>\n",
       "      <th>9</th>\n",
       "      <td>Epic Games</td>\n",
       "      <td>31.5</td>\n",
       "      <td>2018-10-26</td>\n",
       "      <td>United States</td>\n",
       "      <td>Cary</td>\n",
       "      <td>Other</td>\n",
       "      <td>Tencent Holdings, KKR, Smash Ventures</td>\n",
       "    </tr>\n",
       "  </tbody>\n",
       "</table>\n",
       "</div>"
      ],
      "text/plain": [
       "        Company  Valuation ($B) Date Joined         Country           City  \\\n",
       "0     ByteDance           140.0  2017-04-07           China        Beijing   \n",
       "1        SpaceX           127.0  2012-12-01   United States      Hawthorne   \n",
       "2         SHEIN           100.0  2018-07-03           China       Shenzhen   \n",
       "3        Stripe            95.0  2014-01-23   United States  San Francisco   \n",
       "4         Canva            40.0  2018-01-08       Australia    Surry Hills   \n",
       "5  Checkout.com            40.0  2019-05-02  United Kingdom         London   \n",
       "6     Instacart            39.0  2014-12-30   United States  San Francisco   \n",
       "7    Databricks            38.0  2019-02-05   United States  San Francisco   \n",
       "8       Revolut            33.0  2018-04-26  United Kingdom         London   \n",
       "9    Epic Games            31.5  2018-10-26   United States           Cary   \n",
       "\n",
       "                              Industry  \\\n",
       "0              Artificial intelligence   \n",
       "1                                Other   \n",
       "2      E-commerce & direct-to-consumer   \n",
       "3                              Fintech   \n",
       "4         Internet software & services   \n",
       "5                              Fintech   \n",
       "6  Supply chain, logistics, & delivery   \n",
       "7          Data management & analytics   \n",
       "8                              Fintech   \n",
       "9                                Other   \n",
       "\n",
       "                                    Select Investors  \n",
       "0  Sequoia Capital China, SIG Asia Investments, S...  \n",
       "1  Founders Fund, Draper Fisher Jurvetson, Rothen...  \n",
       "2  Tiger Global Management, Sequoia Capital China...  \n",
       "3        Khosla Ventures, LowercaseCapital, capitalG  \n",
       "4  Sequoia Capital China, Blackbird Ventures, Mat...  \n",
       "5  Tiger Global Management, Insight Partners, DST...  \n",
       "6  Khosla Ventures, Kleiner Perkins Caufield & By...  \n",
       "7  Andreessen Horowitz, New Enterprise Associates...  \n",
       "8         index Ventures, DST Global, Ribbit Capital  \n",
       "9              Tencent Holdings, KKR, Smash Ventures  "
      ]
     },
     "execution_count": 39,
     "metadata": {},
     "output_type": "execute_result"
    }
   ],
   "source": [
    "df_unicorn.head(10)"
   ]
  },
  {
   "cell_type": "markdown",
   "id": "4e6703aa",
   "metadata": {
    "papermill": {
     "duration": 0.023335,
     "end_time": "2024-04-05T03:55:03.016334",
     "exception": false,
     "start_time": "2024-04-05T03:55:02.992999",
     "status": "completed"
    },
    "tags": []
   },
   "source": [
    "### **3.3 What is the distribution of unicorn company valuations (i.e. how many are valued between '(1-20)B','(20-40)B' and '(40-60)B' etc.)?**"
   ]
  },
  {
   "cell_type": "code",
   "execution_count": 40,
   "id": "98ec8da7",
   "metadata": {
    "execution": {
     "iopub.execute_input": "2024-04-05T03:55:03.068404Z",
     "iopub.status.busy": "2024-04-05T03:55:03.067998Z",
     "iopub.status.idle": "2024-04-05T03:55:03.079869Z",
     "shell.execute_reply": "2024-04-05T03:55:03.078876Z"
    },
    "papermill": {
     "duration": 0.041938,
     "end_time": "2024-04-05T03:55:03.082144",
     "exception": false,
     "start_time": "2024-04-05T03:55:03.040206",
     "status": "completed"
    },
    "tags": []
   },
   "outputs": [],
   "source": [
    "ranges = [0, 20, 40, 60, 80, 100, 120, 140]\n",
    "names = ['(1-20) $B', '(20-40) $B', '(40-60) $B', '(60-80) $B', '(80-100) $B', '(100-120) $B', '(120-140) $B']\n",
    "companies_valuations = pd.cut(df_unicorn['Valuation ($B)'], bins=ranges, labels=names).value_counts()\n",
    "\n",
    "companies_size = list(companies_valuations.index)\n",
    "companies_count = list(companies_valuations.values)"
   ]
  },
  {
   "cell_type": "code",
   "execution_count": 41,
   "id": "902a7e31",
   "metadata": {
    "execution": {
     "iopub.execute_input": "2024-04-05T03:55:03.132103Z",
     "iopub.status.busy": "2024-04-05T03:55:03.130922Z",
     "iopub.status.idle": "2024-04-05T03:55:03.139978Z",
     "shell.execute_reply": "2024-04-05T03:55:03.138695Z"
    },
    "papermill": {
     "duration": 0.036293,
     "end_time": "2024-04-05T03:55:03.142068",
     "exception": false,
     "start_time": "2024-04-05T03:55:03.105775",
     "status": "completed"
    },
    "tags": []
   },
   "outputs": [
    {
     "data": {
      "text/plain": [
       "Valuation ($B)\n",
       "(1-20) $B       1187\n",
       "(20-40) $B        10\n",
       "(80-100) $B        2\n",
       "(120-140) $B       2\n",
       "(40-60) $B         0\n",
       "(60-80) $B         0\n",
       "(100-120) $B       0\n",
       "Name: count, dtype: int64"
      ]
     },
     "execution_count": 41,
     "metadata": {},
     "output_type": "execute_result"
    }
   ],
   "source": [
    "companies_valuations"
   ]
  },
  {
   "cell_type": "code",
   "execution_count": 42,
   "id": "2af17380",
   "metadata": {
    "execution": {
     "iopub.execute_input": "2024-04-05T03:55:03.193163Z",
     "iopub.status.busy": "2024-04-05T03:55:03.192802Z",
     "iopub.status.idle": "2024-04-05T03:55:03.757241Z",
     "shell.execute_reply": "2024-04-05T03:55:03.756370Z"
    },
    "papermill": {
     "duration": 0.593679,
     "end_time": "2024-04-05T03:55:03.759330",
     "exception": false,
     "start_time": "2024-04-05T03:55:03.165651",
     "status": "completed"
    },
    "tags": []
   },
   "outputs": [
    {
     "data": {
      "image/png": "[encoded data removed]",
      "text/plain": [
       "<Figure size 1000x500 with 1 Axes>"
      ]
     },
     "metadata": {},
     "output_type": "display_data"
    }
   ],
   "source": [
    "plt.figure(figsize=(10,5))\n",
    "plt.bar(companies_size, companies_count, width=0.5, color=\"c\", \\\n",
    "        edgecolor=\"w\", linewidth=3, alpha=0.7)\n",
    "plt.yscale('log')\n",
    "plt.title(\"Countries Valuation\")\n",
    "plt.xlabel(\"Countries\")\n",
    "plt.ylabel(\"Counts\")\n",
    "plt.xticks(rotation=35)\n",
    "plt.show()"
   ]
  },
  {
   "cell_type": "markdown",
   "id": "6741e874",
   "metadata": {
    "papermill": {
     "duration": 0.023663,
     "end_time": "2024-04-05T03:55:03.807129",
     "exception": false,
     "start_time": "2024-04-05T03:55:03.783466",
     "status": "completed"
    },
    "tags": []
   },
   "source": []
  },
  {
   "cell_type": "markdown",
   "id": "472bc21a",
   "metadata": {
    "papermill": {
     "duration": 0.02461,
     "end_time": "2024-04-05T03:55:03.856653",
     "exception": false,
     "start_time": "2024-04-05T03:55:03.832043",
     "status": "completed"
    },
    "tags": []
   },
   "source": [
    "### **3.4 Top 5 industries having the most unicorn companies?**"
   ]
  },
  {
   "cell_type": "code",
   "execution_count": 43,
   "id": "186cc93c",
   "metadata": {
    "execution": {
     "iopub.execute_input": "2024-04-05T03:55:03.908982Z",
     "iopub.status.busy": "2024-04-05T03:55:03.907792Z",
     "iopub.status.idle": "2024-04-05T03:55:03.916881Z",
     "shell.execute_reply": "2024-04-05T03:55:03.915923Z"
    },
    "papermill": {
     "duration": 0.036861,
     "end_time": "2024-04-05T03:55:03.918968",
     "exception": false,
     "start_time": "2024-04-05T03:55:03.882107",
     "status": "completed"
    },
    "tags": []
   },
   "outputs": [
    {
     "data": {
      "text/plain": [
       "Industry\n",
       "Artificial Intelligence                 11\n",
       "Artificial intelligence                 76\n",
       "Auto & transportation                   38\n",
       "Consumer & retail                       30\n",
       "Cybersecurity                           58\n",
       "Data management & analytics             45\n",
       "E-commerce & direct-to-consumer        108\n",
       "Edtech                                  32\n",
       "Fintech                                252\n",
       "Hardware                                39\n",
       "Health                                  95\n",
       "Internet software & services           231\n",
       "Mobile & telecommunications             39\n",
       "Other                                   65\n",
       "Supply chain, logistics, & delivery     68\n",
       "Travel                                  14\n",
       "Name: Company, dtype: int64"
      ]
     },
     "execution_count": 43,
     "metadata": {},
     "output_type": "execute_result"
    }
   ],
   "source": [
    "df_unicorn.groupby('Industry')['Company'].count()"
   ]
  },
  {
   "cell_type": "markdown",
   "id": "cd125764",
   "metadata": {
    "papermill": {
     "duration": 0.02419,
     "end_time": "2024-04-05T03:55:03.968375",
     "exception": false,
     "start_time": "2024-04-05T03:55:03.944185",
     "status": "completed"
    },
    "tags": []
   },
   "source": [
    "> **Note:** In our `Industry` column `Artificial Intelligence` and `Artificial intelligence` both are showing as different values so we'll solve this problem first"
   ]
  },
  {
   "cell_type": "markdown",
   "id": "39495e3f",
   "metadata": {
    "papermill": {
     "duration": 0.023877,
     "end_time": "2024-04-05T03:55:04.017133",
     "exception": false,
     "start_time": "2024-04-05T03:55:03.993256",
     "status": "completed"
    },
    "tags": []
   },
   "source": [
    "- Capitalizing each value in the `Industry` column"
   ]
  },
  {
   "cell_type": "code",
   "execution_count": 44,
   "id": "47afc692",
   "metadata": {
    "execution": {
     "iopub.execute_input": "2024-04-05T03:55:04.068997Z",
     "iopub.status.busy": "2024-04-05T03:55:04.068100Z",
     "iopub.status.idle": "2024-04-05T03:55:04.074291Z",
     "shell.execute_reply": "2024-04-05T03:55:04.073396Z"
    },
    "papermill": {
     "duration": 0.035113,
     "end_time": "2024-04-05T03:55:04.076597",
     "exception": false,
     "start_time": "2024-04-05T03:55:04.041484",
     "status": "completed"
    },
    "tags": []
   },
   "outputs": [],
   "source": [
    "df_unicorn['Industry'] = df_unicorn['Industry'].apply(lambda x: x.capitalize())"
   ]
  },
  {
   "cell_type": "code",
   "execution_count": 45,
   "id": "b44629a1",
   "metadata": {
    "execution": {
     "iopub.execute_input": "2024-04-05T03:55:04.128067Z",
     "iopub.status.busy": "2024-04-05T03:55:04.127469Z",
     "iopub.status.idle": "2024-04-05T03:55:04.135894Z",
     "shell.execute_reply": "2024-04-05T03:55:04.134763Z"
    },
    "papermill": {
     "duration": 0.036695,
     "end_time": "2024-04-05T03:55:04.137977",
     "exception": false,
     "start_time": "2024-04-05T03:55:04.101282",
     "status": "completed"
    },
    "tags": []
   },
   "outputs": [
    {
     "data": {
      "text/plain": [
       "Industry\n",
       "Fintech                            252\n",
       "Internet software & services       231\n",
       "E-commerce & direct-to-consumer    108\n",
       "Health                              95\n",
       "Artificial intelligence             87\n",
       "Name: Company, dtype: int64"
      ]
     },
     "execution_count": 45,
     "metadata": {},
     "output_type": "execute_result"
    }
   ],
   "source": [
    "top_five_industries = df_unicorn.groupby('Industry')['Company'].count().sort_values(ascending=False)[:5]\n",
    "top_five_industries"
   ]
  },
  {
   "cell_type": "code",
   "execution_count": 46,
   "id": "11d5cd16",
   "metadata": {
    "execution": {
     "iopub.execute_input": "2024-04-05T03:55:04.190377Z",
     "iopub.status.busy": "2024-04-05T03:55:04.189743Z",
     "iopub.status.idle": "2024-04-05T03:55:04.377892Z",
     "shell.execute_reply": "2024-04-05T03:55:04.376530Z"
    },
    "papermill": {
     "duration": 0.219661,
     "end_time": "2024-04-05T03:55:04.382223",
     "exception": false,
     "start_time": "2024-04-05T03:55:04.162562",
     "status": "completed"
    },
    "tags": []
   },
   "outputs": [
    {
     "data": {
      "image/png": "[encoded data removed]",
      "text/plain": [
       "<Figure size 400x500 with 1 Axes>"
      ]
     },
     "metadata": {},
     "output_type": "display_data"
    }
   ],
   "source": [
    "# fig, ax = plt.subplots(figsize=(8,6))\n",
    "plt.figure(figsize=(4,5))\n",
    "plt.pie(top_five_industries.values, labels=top_five_industries.index, \n",
    "       autopct='%1.2f%%', shadow=True)\n",
    "plt.show()"
   ]
  },
  {
   "cell_type": "markdown",
   "id": "7ae09c47",
   "metadata": {
    "papermill": {
     "duration": 0.028442,
     "end_time": "2024-04-05T03:55:04.452955",
     "exception": false,
     "start_time": "2024-04-05T03:55:04.424513",
     "status": "completed"
    },
    "tags": []
   },
   "source": [
    "### **3.5 How has the number of unicorn companies changed over time (by year)?**"
   ]
  },
  {
   "cell_type": "code",
   "execution_count": 47,
   "id": "6eee0ac4",
   "metadata": {
    "execution": {
     "iopub.execute_input": "2024-04-05T03:55:04.505186Z",
     "iopub.status.busy": "2024-04-05T03:55:04.503918Z",
     "iopub.status.idle": "2024-04-05T03:55:04.517378Z",
     "shell.execute_reply": "2024-04-05T03:55:04.516286Z"
    },
    "papermill": {
     "duration": 0.041761,
     "end_time": "2024-04-05T03:55:04.519550",
     "exception": false,
     "start_time": "2024-04-05T03:55:04.477789",
     "status": "completed"
    },
    "tags": []
   },
   "outputs": [
    {
     "data": {
      "text/plain": [
       "Date Joined (years)\n",
       "2011      2\n",
       "2012      4\n",
       "2013      3\n",
       "2014     12\n",
       "2015     34\n",
       "2016     21\n",
       "2017     42\n",
       "2018     97\n",
       "2019    102\n",
       "2020    106\n",
       "2021    527\n",
       "2022    251\n",
       "Name: Company, dtype: int64"
      ]
     },
     "execution_count": 47,
     "metadata": {},
     "output_type": "execute_result"
    }
   ],
   "source": [
    "# Creating new column to store only year e.g 2011 to groupby() with company column\n",
    "unicorn_years = pd.Series(pd.to_datetime(df_unicorn['Date Joined'], format='%Y-%m-%d')).dt.year\n",
    "df_unicorn['Date Joined (years)'] = unicorn_years\n",
    "\n",
    "# company count w.r.t year\n",
    "unicorn_comp_over_time = df_unicorn.groupby('Date Joined (years)')['Company'].count()\n",
    "unicorn_comp_over_time"
   ]
  },
  {
   "cell_type": "code",
   "execution_count": 48,
   "id": "816cfd99",
   "metadata": {
    "execution": {
     "iopub.execute_input": "2024-04-05T03:55:04.572209Z",
     "iopub.status.busy": "2024-04-05T03:55:04.570900Z",
     "iopub.status.idle": "2024-04-05T03:55:04.576362Z",
     "shell.execute_reply": "2024-04-05T03:55:04.575615Z"
    },
    "papermill": {
     "duration": 0.034101,
     "end_time": "2024-04-05T03:55:04.578466",
     "exception": false,
     "start_time": "2024-04-05T03:55:04.544365",
     "status": "completed"
    },
    "tags": []
   },
   "outputs": [],
   "source": [
    "joined_years = list(unicorn_comp_over_time.index)\n",
    "company_counts = list(unicorn_comp_over_time.values)"
   ]
  },
  {
   "cell_type": "code",
   "execution_count": 49,
   "id": "b9149632",
   "metadata": {
    "execution": {
     "iopub.execute_input": "2024-04-05T03:55:04.631084Z",
     "iopub.status.busy": "2024-04-05T03:55:04.629949Z",
     "iopub.status.idle": "2024-04-05T03:55:04.916600Z",
     "shell.execute_reply": "2024-04-05T03:55:04.915700Z"
    },
    "papermill": {
     "duration": 0.314965,
     "end_time": "2024-04-05T03:55:04.918623",
     "exception": false,
     "start_time": "2024-04-05T03:55:04.603658",
     "status": "completed"
    },
    "tags": []
   },
   "outputs": [
    {
     "data": {
      "image/png": "[encoded data removed]",
      "text/plain": [
       "<Figure size 1000x400 with 1 Axes>"
      ]
     },
     "metadata": {},
     "output_type": "display_data"
    }
   ],
   "source": [
    "fig, ax = plt.subplots()\n",
    "\n",
    "# use to create plot if you want data labels\n",
    "ax.plot(joined_years, company_counts, \"c8-\", linewidth=3)\n",
    "fig.set_size_inches(10, 4)\n",
    "\n",
    "# Label data points\n",
    "for i, (x, y) in enumerate(zip(joined_years, company_counts)):\n",
    "    ax.text(x, y, str(y), ha='right', fontsize=9, color=\"black\")\n",
    "\n",
    "plt.title(\"# of New Unicorns companies Joined By Years\", fontsize=15)\n",
    "plt.xlabel(\"Years\", fontsize=13)\n",
    "plt.ylabel(\"Counts\", fontsize=13)\n",
    "\n",
    "plt.show()"
   ]
  }
 ],
 "metadata": {
  "kaggle": {
   "accelerator": "none",
   "dataSources": [
    {
     "datasetId": 2639205,
     "sourceId": 4515908,
     "sourceType": "datasetVersion"
    }
   ],
   "dockerImageVersionId": 30673,
   "isGpuEnabled": false,
   "isInternetEnabled": false,
   "language": "python",
   "sourceType": "notebook"
  },
  "kernelspec": {
   "display_name": "Python 3",
   "language": "python",
   "name": "python3"
  },
  "language_info": {
   "codemirror_mode": {
    "name": "ipython",
    "version": 3
   },
   "file_extension": ".py",
   "mimetype": "text/x-python",
   "name": "python",
   "nbconvert_exporter": "python",
   "pygments_lexer": "ipython3",
   "version": "3.10.13"
  },
  "papermill": {
   "default_parameters": {},
   "duration": 12.786308,
   "end_time": "2024-04-05T03:55:05.564371",
   "environment_variables": {},
   "exception": null,
   "input_path": "__notebook__.ipynb",
   "output_path": "__notebook__.ipynb",
   "parameters": {},
   "start_time": "2024-04-05T03:54:52.778063",
   "version": "2.5.0"
  }
 },
 "nbformat": 4,
 "nbformat_minor": 5
}
